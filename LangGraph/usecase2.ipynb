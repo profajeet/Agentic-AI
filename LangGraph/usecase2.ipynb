{
 "cells": [
  {
   "cell_type": "code",
   "execution_count": 8,
   "metadata": {},
   "outputs": [
    {
     "name": "stdout",
     "output_type": "stream",
     "text": [
      "Collecting PyMuPDF\n",
      "  Downloading pymupdf-1.25.5-cp39-abi3-macosx_11_0_arm64.whl.metadata (3.4 kB)\n",
      "Downloading pymupdf-1.25.5-cp39-abi3-macosx_11_0_arm64.whl (18.6 MB)\n",
      "\u001b[2K   \u001b[90m━━━━━━━━━━━━━━━━━━━━━━━━━━━━━━━━━━━━━━━━\u001b[0m \u001b[32m18.6/18.6 MB\u001b[0m \u001b[31m16.8 MB/s\u001b[0m eta \u001b[36m0:00:00\u001b[0ma \u001b[36m0:00:01\u001b[0m\n",
      "\u001b[?25hInstalling collected packages: PyMuPDF\n",
      "Successfully installed PyMuPDF-1.25.5\n"
     ]
    }
   ],
   "source": [
    "# ! pip install pytesseract\n",
    "# ! pip install pdf2image\n",
    "! pip install PyMuPDF"
   ]
  },
  {
   "cell_type": "code",
   "execution_count": 1,
   "metadata": {},
   "outputs": [],
   "source": [
    "def load_pdf(pdf_path):\n",
    "    return {\"pdf_path\": pdf_path}"
   ]
  },
  {
   "cell_type": "code",
   "execution_count": 2,
   "metadata": {},
   "outputs": [],
   "source": [
    "def classify_document(pdf_path):\n",
    "    import fitz  # PyMuPDF\n",
    "    doc = fitz.open(pdf_path)\n",
    "    page = doc[0]\n",
    "    text = page.get_text()\n",
    "    if len(text.strip()) < 10:\n",
    "        return {\"document_type\": \"non-digital\"}\n",
    "    return {\"document_type\": \"digital\"}\n"
   ]
  },
  {
   "cell_type": "code",
   "execution_count": 9,
   "metadata": {},
   "outputs": [],
   "source": [
    "from pytesseract import image_to_string\n",
    "from pdf2image import convert_from_path\n",
    "import fitz  # for digital\n",
    "\n",
    "def extract_text(pdf_path, document_type):\n",
    "    if document_type == \"non-digital\":\n",
    "        images = convert_from_path(pdf_path)\n",
    "        full_text = \"\"\n",
    "        for img in images:\n",
    "            full_text += image_to_string(img)\n",
    "    else:\n",
    "        doc = fitz.open(pdf_path)\n",
    "        full_text = \"\\n\".join([page.get_text() for page in doc])\n",
    "    \n",
    "    return {\"extracted_text\": full_text}\n"
   ]
  },
  {
   "cell_type": "code",
   "execution_count": 11,
   "metadata": {},
   "outputs": [],
   "source": [
    "from openai import OpenAI\n",
    "\n",
    "def extract_general_details(text):\n",
    "    prompt = f\"\"\"Extract the following details from the document text:\n",
    "    - Document Type\n",
    "    - Name (if available)\n",
    "    - Date\n",
    "    - Organization\n",
    "    - Any IDs\n",
    "\n",
    "    Document:\n",
    "    \\\"\\\"\\\"{text[:4000]}\\\"\\\"\\\"\n",
    "\n",
    "    Answer in JSON format.\"\"\"\n",
    "    \n",
    "    \n",
    "    client = OpenAI(\n",
    "        base_url = 'http://localhost:11434/v1',\n",
    "        api_key='ollama', # required, but unused\n",
    "    )\n",
    "\n",
    "    response = client.chat.completions.create(\n",
    "    model=\"llama3.2\",\n",
    "        messages=[{\"role\": \"user\", \"content\": prompt}]\n",
    "    )\n",
    "    return {\"document_summary\": response['choices'][0]['message']['content']}\n"
   ]
  },
  {
   "cell_type": "code",
   "execution_count": 12,
   "metadata": {},
   "outputs": [],
   "source": [
    "# from openai import OpenAI\n",
    "\n",
    "# client = OpenAI(\n",
    "#     base_url = 'http://localhost:11434/v1',\n",
    "#     api_key='ollama', # required, but unused\n",
    "# )\n",
    "\n",
    "# response = client.chat.completions.create(\n",
    "#   model=\"llama3.2\",\n",
    "#   messages=[\n",
    "#     {\"role\": \"system\", \"content\": \"You are a helpful assistant.\"},\n",
    "#     {\"role\": \"user\", \"content\": \"Who won the world series in 2020?\"},\n",
    "#     {\"role\": \"assistant\", \"content\": \"The LA Dodgers won in 2020.\"},\n",
    "#     {\"role\": \"user\", \"content\": \"Where was it played?\"}\n",
    "#   ]\n",
    "# )\n",
    "# print(response.choices[0].message.content)"
   ]
  },
  {
   "cell_type": "code",
   "execution_count": 13,
   "metadata": {},
   "outputs": [],
   "source": [
    "def format_output(original_text, extracted_details):\n",
    "    return {\n",
    "        \"summary\": extracted_details,\n",
    "        \"raw_text\": original_text\n",
    "    }\n"
   ]
  },
  {
   "cell_type": "code",
   "execution_count": 15,
   "metadata": {},
   "outputs": [
    {
     "data": {
      "text/plain": [
       "<langgraph.graph.state.StateGraph at 0x11be934d0>"
      ]
     },
     "execution_count": 15,
     "metadata": {},
     "output_type": "execute_result"
    }
   ],
   "source": [
    "from typing import Annotated\n",
    "\n",
    "from typing_extensions import TypedDict\n",
    "\n",
    "from langgraph.graph import StateGraph, START, END\n",
    "from langgraph.graph.message import add_messages\n",
    "\n",
    "\n",
    "class State(TypedDict):\n",
    "    # Messages have the type \"list\". The `add_messages` function\n",
    "    # in the annotation defines how this state key should be updated\n",
    "    # (in this case, it appends messages to the list, rather than overwriting them)\n",
    "    messages: Annotated[list, add_messages]\n",
    "\n",
    "\n",
    "# graph_builder = StateGraph(State)\n",
    "graph = StateGraph(State)\n",
    "\n",
    "graph.add_node(\"Load PDF\", load_pdf)\n",
    "graph.add_node(\"Classify\", classify_document)\n",
    "graph.add_node(\"Extract Text\", extract_text)\n",
    "graph.add_node(\"Extract Details\", extract_general_details)\n",
    "graph.add_node(\"Final Output\", format_output)\n",
    "\n",
    "graph.set_entry_point(\"Load PDF\")\n",
    "\n",
    "graph.add_edge(\"Load PDF\", \"Classify\")\n",
    "graph.add_edge(\"Classify\", \"Extract Text\")\n",
    "graph.add_edge(\"Extract Text\", \"Extract Details\")\n",
    "graph.add_edge(\"Extract Details\", \"Final Output\")\n",
    "\n",
    "graph.set_finish_point(\"Final Output\")\n"
   ]
  },
  {
   "cell_type": "code",
   "execution_count": 18,
   "metadata": {},
   "outputs": [
    {
     "data": {
      "image/png": "[encoded data removed]",
      "text/plain": [
       "<IPython.core.display.Image object>"
      ]
     },
     "metadata": {},
     "output_type": "display_data"
    }
   ],
   "source": [
    "from IPython.display import Image, display\n",
    "graph2 = graph.compile()\n",
    "\n",
    "try:\n",
    "    display(Image(graph2.get_graph().draw_mermaid_png()))\n",
    "except Exception as e:\n",
    "    print(\"Error\",e)\n",
    "    # This requires some extra dependencies and is optional\n",
    "    pass"
   ]
  },
  {
   "cell_type": "code",
   "execution_count": null,
   "metadata": {},
   "outputs": [],
   "source": []
  }
 ],
 "metadata": {
  "kernelspec": {
   "display_name": "AIenv",
   "language": "python",
   "name": "python3"
  },
  "language_info": {
   "codemirror_mode": {
    "name": "ipython",
    "version": 3
   },
   "file_extension": ".py",
   "mimetype": "text/x-python",
   "name": "python",
   "nbconvert_exporter": "python",
   "pygments_lexer": "ipython3",
   "version": "3.13.2"
  }
 },
 "nbformat": 4,
 "nbformat_minor": 2
}
