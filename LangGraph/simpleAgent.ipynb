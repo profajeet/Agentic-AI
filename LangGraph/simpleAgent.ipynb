{
 "cells": [
  {
   "cell_type": "markdown",
   "id": "4c68d950",
   "metadata": {},
   "source": [
    "### Agent Key Feature\n",
    "##### Understand user goals:\n",
    "Interpret and translate user intentions into actionable tasks. \n",
    "##### Plan and execute:\n",
    "Develop and implement strategies to achieve those goals. \n",
    "##### Monitor and adapt:\n",
    "Track progress, identify issues, and adjust their approach as needed. \n",
    "##### Collaborate:\n",
    "Work with other agents, both AI and human, to complete complex tasks. "
   ]
  },
  {
   "cell_type": "code",
   "execution_count": 1,
   "id": "364f292f",
   "metadata": {},
   "outputs": [],
   "source": [
    "from langgraph.graph import StateGraph, START, END\n",
    "from langchain_ollama import ChatOllama\n",
    "from typing import TypedDict, Literal, Annotated,Optional\n",
    "from pydantic import BaseModel, Field"
   ]
  },
  {
   "cell_type": "code",
   "execution_count": 2,
   "id": "5eb22e5e",
   "metadata": {},
   "outputs": [],
   "source": [
    "model = ChatOllama(model='llama3.2')\n",
    "\n",
    "model1 = ChatOllama(model='llama3.2')\n",
    "model2 = ChatOllama(model='deepseek-r1')\n",
    "model3 = ChatOllama(model=\"gemma3\")"
   ]
  },
  {
   "cell_type": "code",
   "execution_count": 3,
   "id": "170b1cbb",
   "metadata": {},
   "outputs": [],
   "source": [
    "class AgentState(TypedDict):\n",
    "    user_input: Annotated[str,'User Initital Input']\n",
    "    goal_understand: Annotated[str,'Understand User Goal']\n",
    "    planning: Annotated[str,'Planning by agent based on tools availablity']\n",
    "    intermediate: Optional[str]\n",
    "    "
   ]
  },
  {
   "cell_type": "code",
   "execution_count": null,
   "id": "d162aa36",
   "metadata": {},
   "outputs": [],
   "source": [
    "def goal_understand(state: AgentState):\n",
    "    user_input = state['user_input']\n",
    "    from langchain_core.prompts import ChatPromptTemplate\n",
    "\n",
    "    # prompt_template = ChatPromptTemplate([\n",
    "    #     (\"system\", \"You are a helpful assistant\"),\n",
    "    #     (\"user\", \"Analyze the  {user_input}\")\n",
    "    # ])\n",
    "\n",
    "    # Update system prompt to emphasize goal understanding and human-in-the-loop\n",
    "    prompt_template = ChatPromptTemplate([\n",
    "        (\"system\", \"You are a helpful assistant collaborating with a human agent to deeply understand the user's goal. Ask clarifying questions if needed.\"),\n",
    "        (\"user\", \"Analyze the {user_input} and suggest clarifications if the goal is ambiguous.\")\n",
    "    ])\n",
    "    \n",
    "    # Invoke the prompt and get the AI's response\n",
    "    ai_response = prompt_template.invoke({\"user_input\": user_input})\n",
    "    \n",
    "    # Human in the loop: print AI response and get human feedback\n",
    "    print(\"AI's understanding of the goal:\", ai_response)\n",
    "    human_feedback = input(\"Do you want to clarify or add anything to your goal? If yes, please provide details: \")\n",
    "    \n",
    "    # Update state with human feedback if provided\n",
    "    if human_feedback.strip():\n",
    "        state['goal_understand'] = f\"{ai_response}\\nHuman clarification: {human_feedback}\"\n",
    "    else:\n",
    "        state['goal_understand'] = str(ai_response)\n",
    "    \n",
    "    return state"
   ]
  },
  {
   "cell_type": "code",
   "execution_count": 8,
   "id": "899536ea",
   "metadata": {},
   "outputs": [],
   "source": [
    "def planning(state: AgentState):\n",
    "    pass"
   ]
  },
  {
   "cell_type": "code",
   "execution_count": null,
   "id": "8b448102",
   "metadata": {},
   "outputs": [],
   "source": []
  },
  {
   "cell_type": "code",
   "execution_count": 9,
   "id": "5f39de17",
   "metadata": {},
   "outputs": [],
   "source": [
    "def executor(state: AgentState):\n",
    "    pass"
   ]
  },
  {
   "cell_type": "code",
   "execution_count": 10,
   "id": "98035b8a",
   "metadata": {},
   "outputs": [],
   "source": [
    "workflow = StateGraph(AgentState)\n",
    "workflow.add_node('goal_understand',goal_understand)\n",
    "workflow.add_node('planning', planning)\n",
    "workflow.add_node('executor',executor)\n",
    "\n",
    "workflow.add_edge(START,'goal_understand')\n",
    "workflow.add_edge('goal_understand','planning')\n",
    "workflow.add_edge('planning','executor')\n",
    "workflow.add_edge('executor',END)\n",
    "graph = workflow.compile()"
   ]
  },
  {
   "cell_type": "code",
   "execution_count": 11,
   "id": "d5aa9789",
   "metadata": {},
   "outputs": [
    {
     "data": {
      "image/png": "[encoded data removed]",
      "text/plain": [
       "<langgraph.graph.state.CompiledStateGraph object at 0x106bbcec0>"
      ]
     },
     "execution_count": 11,
     "metadata": {},
     "output_type": "execute_result"
    }
   ],
   "source": [
    "graph"
   ]
  },
  {
   "cell_type": "code",
   "execution_count": null,
   "id": "7ec5948b",
   "metadata": {},
   "outputs": [],
   "source": []
  }
 ],
 "metadata": {
  "kernelspec": {
   "display_name": "AIenv",
   "language": "python",
   "name": "python3"
  },
  "language_info": {
   "codemirror_mode": {
    "name": "ipython",
    "version": 3
   },
   "file_extension": ".py",
   "mimetype": "text/x-python",
   "name": "python",
   "nbconvert_exporter": "python",
   "pygments_lexer": "ipython3",
   "version": "3.13.2"
  }
 },
 "nbformat": 4,
 "nbformat_minor": 5
}
