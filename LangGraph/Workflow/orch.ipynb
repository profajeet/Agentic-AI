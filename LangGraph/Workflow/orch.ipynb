{
 "cells": [
  {
   "cell_type": "code",
   "execution_count": 21,
   "id": "63cc8ba7",
   "metadata": {},
   "outputs": [],
   "source": [
    "from langgraph.graph import StateGraph, START, END\n",
    "from langchain_ollama import ChatOllama\n",
    "from typing import TypedDict, Literal, Annotated\n",
    "from pydantic import BaseModel, Field"
   ]
  },
  {
   "cell_type": "code",
   "execution_count": 7,
   "id": "67ee9618",
   "metadata": {},
   "outputs": [],
   "source": [
    "model = ChatOllama(model='llama3.2')\n",
    "\n",
    "model1 = ChatOllama(model='llama3.2')\n",
    "model2 = ChatOllama(model='deepseek-r1')\n",
    "model3 = ChatOllama(model=\"gemma3\")"
   ]
  },
  {
   "cell_type": "code",
   "execution_count": 42,
   "id": "c2c0a904",
   "metadata": {},
   "outputs": [],
   "source": [
    "class OrchState(TypedDict):\n",
    "    '''Orchestration states defined for the workflow'''\n",
    "    user_input: Annotated[str, \"Natural language intent\"]\n",
    "    parsed_tasks: Annotated[list, \"Structured list of tasks\"]\n",
    "    intent_evaluation: Literal[\"approved\", \"needs_improvement\"]\n",
    "    execution_log: Annotated[list, \"Logs of each task\"]\n",
    "    int_iteration: Annotated[str, \"Natural language intent evaluation iterations\"]\n",
    "    int_max_iteration: Annotated[str, \"Natural language intent evaluation max iterations\"]\n"
   ]
  },
  {
   "cell_type": "code",
   "execution_count": 22,
   "id": "4b6776b6",
   "metadata": {},
   "outputs": [],
   "source": [
    "class ParserStructure(BaseModel):\n",
    "    intent_parser: list = Field(..., description=\"Parse user intent in structured form\")"
   ]
  },
  {
   "cell_type": "code",
   "execution_count": 33,
   "id": "ba2fb4fc",
   "metadata": {},
   "outputs": [],
   "source": [
    "def parse_intent(state: OrchState) -> OrchState:\n",
    "    user_input = state[\"user_input\"]\n",
    "    prompt = f\"Convert user request into task list. \\nUser wants: {user_input}\"\n",
    "    structured_model = model.with_structured_output(ParserStructure)\n",
    "    parsed = structured_model.invoke(prompt).intent_parser\n",
    "    # print(\"Before User Input Parsed\",parsed)\n",
    "    # state[\"parsed_tasks\"] = eval(parsed)  # use ast.literal_eval in production\n",
    "    print(\"After User Input Parsed\",parsed)\n",
    "    return state"
   ]
  },
  {
   "cell_type": "code",
   "execution_count": null,
   "id": "b72dec7c",
   "metadata": {},
   "outputs": [],
   "source": [
    "def route_evaluation(state: OrchState):\n",
    "\n",
    "    if state['evaluation'] == 'approved' or state['iteration'] >= state['int_max_iteration']:\n",
    "        return 'approved'\n",
    "    else:\n",
    "        return 'needs_improvement'"
   ]
  },
  {
   "cell_type": "code",
   "execution_count": 34,
   "id": "1e68501e",
   "metadata": {},
   "outputs": [],
   "source": [
    "def execute_tasks(state: OrchState) -> OrchState:\n",
    "    tasks = state[\"parsed_tasks\"]\n",
    "    logs = []\n",
    "    for task in tasks:\n",
    "        # Simulate task execution\n",
    "        logs.append(f\"Executed task: {task['type']} with {task.get('details', {})}\")\n",
    "    state[\"execution_log\"] = logs\n",
    "    return state"
   ]
  },
  {
   "cell_type": "code",
   "execution_count": 35,
   "id": "84cca19c",
   "metadata": {},
   "outputs": [],
   "source": [
    "graph = StateGraph(OrchState)\n",
    "\n",
    "graph.add_node(\"ParseIntent\", parse_intent)\n",
    "graph.add_node(\"ExecuteWorkflow\", execute_tasks)\n",
    "\n",
    "graph.set_entry_point(\"ParseIntent\")\n",
    "graph.add_edge(\"ParseIntent\", \"ExecuteWorkflow\")\n",
    "graph.set_finish_point(\"ExecuteWorkflow\")\n",
    "\n",
    "workflow = graph.compile()"
   ]
  },
  {
   "cell_type": "code",
   "execution_count": 36,
   "id": "905151d2",
   "metadata": {},
   "outputs": [
    {
     "data": {
      "image/png": "[encoded data removed]",
      "text/plain": [
       "<langgraph.graph.state.CompiledStateGraph object at 0x1260a9f30>"
      ]
     },
     "execution_count": 36,
     "metadata": {},
     "output_type": "execute_result"
    }
   ],
   "source": [
    "workflow"
   ]
  },
  {
   "cell_type": "code",
   "execution_count": 38,
   "id": "1bd4f2f2",
   "metadata": {},
   "outputs": [
    {
     "name": "stdout",
     "output_type": "stream",
     "text": [
      "After User Input Parsed [{'task_list': [{'description': 'Configure Google API Service account credentials for notification', 'steps': [{'text': ''}, {'type': 'step', 'title': 'Create a service account in the G Suite Admin Console', 'text': 'Navigate to the G Suite Admin Console and create a new service account'}, {'type': 'step', 'title': 'Generate a private key for the service account', 'text': 'Download the JSON key file and save it securely'}]}, {'description': 'Configure Google Apps Script to send notifications via email', 'steps': [{'text': ''}, {'type': 'step', 'title': 'Create a new script in your Google Sheet', 'text': 'Go to the script editor and create a new function to handle the notification'}, {'type': 'step', 'title': 'Configure the trigger to send an email when a new row is added', 'text': 'Use the `onInsert` trigger to send an email when a new row is inserted'}]}, {'description': 'Test and deploy the notification script', 'steps': [{'text': ''}, {'type': 'step', 'title': 'Test the notification function with a sample data', 'text': 'Insert some sample data into your Google Sheet and verify that you receive an email'}]}], 'trigger': {'event': 'row_inserted_in_google_sheet', 'client': {'type': 'google_sheets', 'properties': [{'name': 'range', 'value': 'A1:B2'}, {'name': 'method', 'value': 'GET'}]}}, 'action': {'type': 'email_notification'}}]\n",
      "Parsed Tasks: []\n",
      "Execution Log: []\n"
     ]
    }
   ],
   "source": [
    "initial_state = {\n",
    "    \"user_input\": \"When a new row is added to a Google Sheet, send me an email notification.\",\n",
    "    \"parsed_tasks\": [],\n",
    "    \"execution_log\": []\n",
    "}\n",
    "\n",
    "final_state = workflow.invoke(initial_state)\n",
    "\n",
    "print(\"Parsed Tasks:\", final_state[\"parsed_tasks\"])\n",
    "print(\"Execution Log:\", final_state[\"execution_log\"])"
   ]
  },
  {
   "cell_type": "code",
   "execution_count": 44,
   "id": "0bec0da5",
   "metadata": {},
   "outputs": [
    {
     "name": "stdout",
     "output_type": "stream",
     "text": [
      "[Interrupt(value={'text_to_revise': 'hi'}, id='dbf897a10a7e0ca06d8e941b496b5898')]\n",
      "[Interrupt(value={'text_to_revise': 'hi'}, id='dbf897a10a7e0ca06d8e941b496b5898')]\n",
      "{'some_text': 'Edited text'}\n"
     ]
    }
   ],
   "source": [
    "from typing import TypedDict\n",
    "import uuid\n",
    "from langgraph.checkpoint.memory import InMemorySaver\n",
    "from langgraph.constants import START\n",
    "from langgraph.graph import StateGraph\n",
    "\n",
    "from langgraph.types import interrupt, Command\n",
    "\n",
    "\n",
    "class State(TypedDict):\n",
    "    some_text: str\n",
    "\n",
    "\n",
    "def human_node(state: State):\n",
    "    value = interrupt(  \n",
    "        {\n",
    "            # \"text_to_revise\": state[\"some_text\"]  \n",
    "            \"text_to_revise\": input(\"edit it\")  \n",
    "\n",
    "        }\n",
    "    )\n",
    "    return {\n",
    "        \"some_text\": value  \n",
    "    }\n",
    "\n",
    "\n",
    "# Build the graph\n",
    "graph_builder = StateGraph(State)\n",
    "graph_builder.add_node(\"human_node\", human_node)\n",
    "graph_builder.add_edge(START, \"human_node\")\n",
    "checkpointer = InMemorySaver()  \n",
    "graph = graph_builder.compile(checkpointer=checkpointer)\n",
    "# Pass a thread ID to the graph to run it.\n",
    "config = {\"configurable\": {\"thread_id\": uuid.uuid4()}}\n",
    "# Run the graph until the interrupt is hit.\n",
    "result = graph.invoke({\"some_text\": \"original text\"}, config=config)  \n",
    "\n",
    "print(result['__interrupt__']) \n",
    "# > [\n",
    "# >    Interrupt(\n",
    "# >       value={'text_to_revise': 'original text'},\n",
    "# >       resumable=True,\n",
    "# >       ns=['human_node:6ce9e64f-edef-fe5d-f7dc-511fa9526960']\n",
    "# >    )\n",
    "# > ]\n",
    "print(result[\"__interrupt__\"])  \n",
    "# > [Interrupt(value={'text_to_revise': 'original text'}, id='6d7c4048049254c83195429a3659661d')]\n",
    "\n",
    "print(graph.invoke(Command(resume=\"Edited text\"), config=config)) \n",
    "# > {'some_text': 'Edited text'}"
   ]
  },
  {
   "cell_type": "code",
   "execution_count": null,
   "id": "11cfb0e5",
   "metadata": {},
   "outputs": [],
   "source": []
  }
 ],
 "metadata": {
  "kernelspec": {
   "display_name": "Python 3",
   "language": "python",
   "name": "python3"
  },
  "language_info": {
   "codemirror_mode": {
    "name": "ipython",
    "version": 3
   },
   "file_extension": ".py",
   "mimetype": "text/x-python",
   "name": "python",
   "nbconvert_exporter": "python",
   "pygments_lexer": "ipython3",
   "version": "3.13.2"
  }
 },
 "nbformat": 4,
 "nbformat_minor": 5
}
