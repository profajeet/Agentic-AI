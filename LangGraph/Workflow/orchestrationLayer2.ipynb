{
 "cells": [
  {
   "cell_type": "code",
   "execution_count": 2,
   "id": "b0b27cc1",
   "metadata": {},
   "outputs": [],
   "source": [
    "from langgraph.graph import StateGraph, START, END\n",
    "from langchain_ollama import ChatOllama\n",
    "from typing import TypedDict, Literal, Annotated\n",
    "from pydantic import BaseModel, Field"
   ]
  },
  {
   "cell_type": "code",
   "execution_count": 3,
   "id": "94911e24",
   "metadata": {},
   "outputs": [],
   "source": [
    "model = ChatOllama(model='llama3.2')\n",
    "\n",
    "model1 = ChatOllama(model='llama3.2')\n",
    "model2 = ChatOllama(model='deepseek-r1')\n",
    "model3 = ChatOllama(model=\"gemma3\")"
   ]
  },
  {
   "cell_type": "code",
   "execution_count": 38,
   "id": "0b2c53a3",
   "metadata": {},
   "outputs": [],
   "source": [
    "class OrchState(TypedDict):\n",
    "    '''Orchestration states defined for the workflow'''\n",
    "    input_mode: Literal[\"interactive_chat\", \"workflow_schema\"]\n",
    "    workflow_input_data: Annotated[list,\"contain workflow schema and data\"]\n",
    "    user_interaction_history: Annotated[bool, \"Check for user interaction history available or not\"]\n",
    "    \n",
    "    user_input: Annotated[str|list, \"Natural language intent\"]\n",
    "    parsed_tasks: Annotated[list, \"Structured list of tasks\"]\n",
    "    intent_evaluation: Literal[\"approved\", \"needs_improvement\"]\n",
    "    execution_log: Annotated[list, \"Logs of each task\"]\n",
    "    \n",
    "    iteration: Annotated[str, \" evaluation iterations\"]\n",
    "    max_iteration: Annotated[str, \" evaluation max iterations\"]\n"
   ]
  },
  {
   "cell_type": "code",
   "execution_count": 19,
   "id": "e82531e4",
   "metadata": {},
   "outputs": [],
   "source": [
    "def check_input(state: OrchState):\n",
    "    pass"
   ]
  },
  {
   "cell_type": "code",
   "execution_count": 22,
   "id": "e903a9e1",
   "metadata": {},
   "outputs": [],
   "source": [
    "def input_mode(state: OrchState)->Literal['interactive_chat','workflow_data']:\n",
    "    '''check input mode and route accordingly'''\n",
    "    if state['workflow_input_data']:\n",
    "        return 'workflow_data'\n",
    "    else:\n",
    "        return 'interactive_chat'"
   ]
  },
  {
   "cell_type": "code",
   "execution_count": null,
   "id": "0ec12238",
   "metadata": {},
   "outputs": [],
   "source": [
    "def interactive_chat(state: OrchState):\n",
    "    '''check user ealier interation and based on that provides interation'''\n",
    "    pass"
   ]
  },
  {
   "cell_type": "code",
   "execution_count": 11,
   "id": "d87819d7",
   "metadata": {},
   "outputs": [],
   "source": [
    "def workflow_data(state: OrchState):\n",
    "    pass"
   ]
  },
  {
   "cell_type": "code",
   "execution_count": 25,
   "id": "9c78f0f5",
   "metadata": {},
   "outputs": [],
   "source": [
    "def supervisor_head_agent(state: OrchState):\n",
    "    '''understand user requirement and fulfil by routioning and interactive with different agents''' \n",
    "    pass"
   ]
  },
  {
   "cell_type": "code",
   "execution_count": 26,
   "id": "6ec4867b",
   "metadata": {},
   "outputs": [],
   "source": [
    "def service_supervisor_agent(state: OrchState):\n",
    "    pass"
   ]
  },
  {
   "cell_type": "code",
   "execution_count": 29,
   "id": "6c015eef",
   "metadata": {},
   "outputs": [],
   "source": [
    "def service_agent(state: OrchState):\n",
    "    pass"
   ]
  },
  {
   "cell_type": "code",
   "execution_count": 30,
   "id": "ffd98c81",
   "metadata": {},
   "outputs": [],
   "source": [
    "def resource_agent(state: OrchState):\n",
    "    pass"
   ]
  },
  {
   "cell_type": "code",
   "execution_count": 31,
   "id": "38b6a5b6",
   "metadata": {},
   "outputs": [],
   "source": [
    "def database_agent(state: OrchState):\n",
    "    pass"
   ]
  },
  {
   "cell_type": "code",
   "execution_count": 28,
   "id": "0adefb9c",
   "metadata": {},
   "outputs": [],
   "source": [
    "def workflow_supervisor_agent(state: OrchState):\n",
    "    pass"
   ]
  },
  {
   "cell_type": "code",
   "execution_count": 32,
   "id": "6f4eabe0",
   "metadata": {},
   "outputs": [],
   "source": [
    "def design_workflow(state: OrchState):\n",
    "    pass"
   ]
  },
  {
   "cell_type": "code",
   "execution_count": 33,
   "id": "714ef330",
   "metadata": {},
   "outputs": [],
   "source": [
    "def test_workflow(state: OrchState):\n",
    "    pass"
   ]
  },
  {
   "cell_type": "code",
   "execution_count": 34,
   "id": "805fff1a",
   "metadata": {},
   "outputs": [],
   "source": [
    "def deploy_workflow(state: OrchState):\n",
    "    pass"
   ]
  },
  {
   "cell_type": "code",
   "execution_count": 35,
   "id": "14bc0836",
   "metadata": {},
   "outputs": [],
   "source": [
    "def recommend_workflow(state: OrchState):\n",
    "    pass"
   ]
  },
  {
   "cell_type": "code",
   "execution_count": 27,
   "id": "6af65a85",
   "metadata": {},
   "outputs": [],
   "source": [
    "def management_supervisor_agent(state: OrchState):\n",
    "    pass"
   ]
  },
  {
   "cell_type": "code",
   "execution_count": 41,
   "id": "9b4130d0",
   "metadata": {},
   "outputs": [],
   "source": [
    "def service_supervisor_agent_evaluation(state: OrchState)-> Literal['approved','needs_improvement']:\n",
    "\n",
    "    if state['evaluation'] == 'approved' or state['iteration'] >= state['max_iteration']:\n",
    "        return 'approved'\n",
    "    else:\n",
    "        return 'needs_improvement'\n",
    "\n",
    "def workflow_supervisor_agent_evaluation(state: OrchState)-> Literal['approved','needs_improvement']:\n",
    "\n",
    "    if state['evaluation'] == 'approved' or state['iteration'] >= state['max_iteration']:\n",
    "        return 'approved'\n",
    "    else:\n",
    "        return 'needs_improvement'\n",
    "\n",
    "def service_supervisor_agent_evaluation(state: OrchState)-> Literal['approved','needs_improvement']:\n",
    "\n",
    "    if state['evaluation'] == 'approved' or state['iteration'] >= state['max_iteration']:\n",
    "        return 'approved'\n",
    "    else:\n",
    "        return 'needs_improvement'\n",
    "\n",
    "def service_agent_evaluation(state: OrchState)-> Literal['approved','needs_improvement']:\n",
    "\n",
    "    if state['evaluation'] == 'approved' or state['iteration'] >= state['max_iteration']:\n",
    "        return 'approved'\n",
    "    else:\n",
    "        return 'needs_improvement'\n",
    "\n",
    "def database_agent_evaluation(state: OrchState)-> Literal['approved','needs_improvement']:\n",
    "\n",
    "    if state['evaluation'] == 'approved' or state['iteration'] >= state['max_iteration']:\n",
    "        return 'approved'\n",
    "    else:\n",
    "        return 'needs_improvement'\n",
    "    \n",
    "def resource_agent_evaluation(state: OrchState)-> Literal['approved','needs_improvement']:\n",
    "\n",
    "    if state['evaluation'] == 'approved' or state['iteration'] >= state['max_iteration']:\n",
    "        return 'approved'\n",
    "    else:\n",
    "        return 'needs_improvement'\n",
    "\n",
    "def design_workflow_evaluation(state: OrchState)-> Literal['approved','needs_improvement']:\n",
    "\n",
    "    if state['evaluation'] == 'approved' or state['iteration'] >= state['max_iteration']:\n",
    "        return 'approved'\n",
    "    else:\n",
    "        return 'needs_improvement'\n",
    "\n",
    "def test_workflow_evaluation(state: OrchState)-> Literal['approved','needs_improvement']:\n",
    "\n",
    "    if state['evaluation'] == 'approved' or state['iteration'] >= state['max_iteration']:\n",
    "        return 'approved'\n",
    "    else:\n",
    "        return 'needs_improvement'\n",
    "\n",
    "def deploy_workflow_evaluation(state: OrchState)-> Literal['approved','needs_improvement']:\n",
    "\n",
    "    if state['evaluation'] == 'approved' or state['iteration'] >= state['max_iteration']:\n",
    "        return 'approved'\n",
    "    else:\n",
    "        return 'needs_improvement'\n",
    "\n",
    "def recommend_workflow_evaluation(state: OrchState)-> Literal['approved','needs_improvement']:\n",
    "\n",
    "    if state['evaluation'] == 'approved' or state['iteration'] >= state['max_iteration']:\n",
    "        return 'approved'\n",
    "    else:\n",
    "        return 'needs_improvement'"
   ]
  },
  {
   "cell_type": "code",
   "execution_count": 42,
   "id": "e290e648",
   "metadata": {},
   "outputs": [
    {
     "ename": "ValueError",
     "evalue": "Branch with name `service_supervisor_agent_evaluation` already exists for node `supervisor_head_agent`",
     "output_type": "error",
     "traceback": [
      "\u001b[31m---------------------------------------------------------------------------\u001b[39m",
      "\u001b[31mValueError\u001b[39m                                Traceback (most recent call last)",
      "\u001b[36mCell\u001b[39m\u001b[36m \u001b[39m\u001b[32mIn[42]\u001b[39m\u001b[32m, line 25\u001b[39m\n\u001b[32m     23\u001b[39m graph.add_conditional_edges(\u001b[33m'\u001b[39m\u001b[33msupervisor_head_agent\u001b[39m\u001b[33m'\u001b[39m,service_supervisor_agent_evaluation,{\u001b[33m'\u001b[39m\u001b[33mapproved\u001b[39m\u001b[33m'\u001b[39m: \u001b[33m'\u001b[39m\u001b[33msupervisor_head_agent\u001b[39m\u001b[33m'\u001b[39m, \u001b[33m'\u001b[39m\u001b[33mneeds_improvement\u001b[39m\u001b[33m'\u001b[39m: \u001b[33m'\u001b[39m\u001b[33mservice_supervisor_agent\u001b[39m\u001b[33m'\u001b[39m})\n\u001b[32m     24\u001b[39m graph.add_conditional_edges(\u001b[33m'\u001b[39m\u001b[33msupervisor_head_agent\u001b[39m\u001b[33m'\u001b[39m,workflow_supervisor_agent_evaluation,{\u001b[33m'\u001b[39m\u001b[33mapproved\u001b[39m\u001b[33m'\u001b[39m: \u001b[33m'\u001b[39m\u001b[33msupervisor_head_agent\u001b[39m\u001b[33m'\u001b[39m, \u001b[33m'\u001b[39m\u001b[33mneeds_improvement\u001b[39m\u001b[33m'\u001b[39m: \u001b[33m'\u001b[39m\u001b[33mworkflow_supervisor_agent\u001b[39m\u001b[33m'\u001b[39m})\n\u001b[32m---> \u001b[39m\u001b[32m25\u001b[39m \u001b[43mgraph\u001b[49m\u001b[43m.\u001b[49m\u001b[43madd_conditional_edges\u001b[49m\u001b[43m(\u001b[49m\u001b[33;43m'\u001b[39;49m\u001b[33;43msupervisor_head_agent\u001b[39;49m\u001b[33;43m'\u001b[39;49m\u001b[43m,\u001b[49m\u001b[43mservice_supervisor_agent_evaluation\u001b[49m\u001b[43m,\u001b[49m\u001b[43m{\u001b[49m\u001b[33;43m'\u001b[39;49m\u001b[33;43mapproved\u001b[39;49m\u001b[33;43m'\u001b[39;49m\u001b[43m:\u001b[49m\u001b[43m \u001b[49m\u001b[33;43m'\u001b[39;49m\u001b[33;43msupervisor_head_agent\u001b[39;49m\u001b[33;43m'\u001b[39;49m\u001b[43m,\u001b[49m\u001b[43m \u001b[49m\u001b[33;43m'\u001b[39;49m\u001b[33;43mneeds_improvement\u001b[39;49m\u001b[33;43m'\u001b[39;49m\u001b[43m:\u001b[49m\u001b[43m \u001b[49m\u001b[33;43m'\u001b[39;49m\u001b[33;43mmanagement_supervisor_agent\u001b[39;49m\u001b[33;43m'\u001b[39;49m\u001b[43m}\u001b[49m\u001b[43m)\u001b[49m\n\u001b[32m     28\u001b[39m graph.add_conditional_edges(\u001b[33m'\u001b[39m\u001b[33mservice_supervisor_agent\u001b[39m\u001b[33m'\u001b[39m,service_agent_evaluation,{\u001b[33m'\u001b[39m\u001b[33mapproved\u001b[39m\u001b[33m'\u001b[39m: \u001b[33m'\u001b[39m\u001b[33mservice_supervisor_agent\u001b[39m\u001b[33m'\u001b[39m, \u001b[33m'\u001b[39m\u001b[33mneeds_improvement\u001b[39m\u001b[33m'\u001b[39m: \u001b[33m'\u001b[39m\u001b[33mservice_agent\u001b[39m\u001b[33m'\u001b[39m})\n\u001b[32m     29\u001b[39m graph.add_conditional_edges(\u001b[33m'\u001b[39m\u001b[33mservice_supervisor_agent\u001b[39m\u001b[33m'\u001b[39m,database_agent_evaluation,{\u001b[33m'\u001b[39m\u001b[33mapproved\u001b[39m\u001b[33m'\u001b[39m: \u001b[33m'\u001b[39m\u001b[33mservice_supervisor_agent\u001b[39m\u001b[33m'\u001b[39m, \u001b[33m'\u001b[39m\u001b[33mneeds_improvement\u001b[39m\u001b[33m'\u001b[39m: \u001b[33m'\u001b[39m\u001b[33mdatabase_agent\u001b[39m\u001b[33m'\u001b[39m})\n",
      "\u001b[36mFile \u001b[39m\u001b[32m/Library/Frameworks/Python.framework/Versions/3.13/lib/python3.13/site-packages/langgraph/graph/state.py:644\u001b[39m, in \u001b[36mStateGraph.add_conditional_edges\u001b[39m\u001b[34m(self, source, path, path_map)\u001b[39m\n\u001b[32m    642\u001b[39m \u001b[38;5;66;03m# validate the condition\u001b[39;00m\n\u001b[32m    643\u001b[39m \u001b[38;5;28;01mif\u001b[39;00m name \u001b[38;5;129;01min\u001b[39;00m \u001b[38;5;28mself\u001b[39m.branches[source]:\n\u001b[32m--> \u001b[39m\u001b[32m644\u001b[39m     \u001b[38;5;28;01mraise\u001b[39;00m \u001b[38;5;167;01mValueError\u001b[39;00m(\n\u001b[32m    645\u001b[39m         \u001b[33mf\u001b[39m\u001b[33m\"\u001b[39m\u001b[33mBranch with name `\u001b[39m\u001b[38;5;132;01m{\u001b[39;00mpath.name\u001b[38;5;132;01m}\u001b[39;00m\u001b[33m` already exists for node `\u001b[39m\u001b[38;5;132;01m{\u001b[39;00msource\u001b[38;5;132;01m}\u001b[39;00m\u001b[33m`\u001b[39m\u001b[33m\"\u001b[39m\n\u001b[32m    646\u001b[39m     )\n\u001b[32m    647\u001b[39m \u001b[38;5;66;03m# save it\u001b[39;00m\n\u001b[32m    648\u001b[39m \u001b[38;5;28mself\u001b[39m.branches[source][name] = BranchSpec.from_path(path, path_map, \u001b[38;5;28;01mTrue\u001b[39;00m)\n",
      "\u001b[31mValueError\u001b[39m: Branch with name `service_supervisor_agent_evaluation` already exists for node `supervisor_head_agent`"
     ]
    }
   ],
   "source": [
    "graph = StateGraph(OrchState)\n",
    "\n",
    "graph.add_node('check_input',check_input)\n",
    "graph.add_node('interactive_chat',interactive_chat)\n",
    "graph.add_node('supervisor_head_agent',supervisor_head_agent)\n",
    "graph.add_node('service_supervisor_agent',service_supervisor_agent)\n",
    "graph.add_node('service_agent',service_agent)\n",
    "graph.add_node('resource_agent',resource_agent)\n",
    "graph.add_node('database_agent',database_agent)\n",
    "graph.add_node('workflow_supervisor_agent',workflow_supervisor_agent)\n",
    "graph.add_node('design_workflow',design_workflow)\n",
    "graph.add_node('test_workflow',test_workflow)\n",
    "graph.add_node('deploy_workflow',deploy_workflow)\n",
    "graph.add_node('recommend_workflow',recommend_workflow)\n",
    "graph.add_node('management_supervisor_agent',management_supervisor_agent)\n",
    "\n",
    "\n",
    "graph.add_edge(START,'check_input')\n",
    "graph.add_conditional_edges('check_input',input_mode)\n",
    "graph.add_edge('interactive_chat','supervisor_head_agent')\n",
    "graph.add_edge('workflow_data','supervisor_head_agent')\n",
    "\n",
    "graph.add_conditional_edges('supervisor_head_agent',service_supervisor_agent_evaluation,{'approved': 'supervisor_head_agent', 'needs_improvement': 'service_supervisor_agent'})\n",
    "graph.add_conditional_edges('supervisor_head_agent',workflow_supervisor_agent_evaluation,{'approved': 'supervisor_head_agent', 'needs_improvement': 'workflow_supervisor_agent'})\n",
    "graph.add_conditional_edges('supervisor_head_agent',service_supervisor_agent_evaluation,{'approved': 'supervisor_head_agent', 'needs_improvement': 'management_supervisor_agent'})\n",
    "\n",
    "\n",
    "graph.add_conditional_edges('service_supervisor_agent',service_agent_evaluation,{'approved': 'service_supervisor_agent', 'needs_improvement': 'service_agent'})\n",
    "graph.add_conditional_edges('service_supervisor_agent',database_agent_evaluation,{'approved': 'service_supervisor_agent', 'needs_improvement': 'database_agent'})\n",
    "graph.add_conditional_edges('service_supervisor_agent',resource_agent_evaluation,{'approved': 'service_supervisor_agent', 'needs_improvement': 'resource_agent'})\n",
    "\n",
    "graph.add_conditional_edges('workflow_supervisor_agent',design_workflow_evaluation,{'approved': 'service_supervisor_agent', 'needs_improvement': 'design_workflow'})\n",
    "graph.add_conditional_edges('workflow_supervisor_agent',test_workflow_evaluation,{'approved': 'service_supervisor_agent', 'needs_improvement': 'test_workflow'})\n",
    "graph.add_conditional_edges('workflow_supervisor_agent',deploy_workflow_evaluation,{'approved': 'service_supervisor_agent', 'needs_improvement': 'deploy_workflow'})\n",
    "graph.add_conditional_edges('workflow_supervisor_agent',recommend_workflow_evaluation,{'approved': 'service_supervisor_agent', 'needs_improvement': 'recommend_workflow'})\n",
    "\n",
    "graph.add_conditional_edges('supervisor_head_agent',END)\n",
    "\n",
    "\n",
    "\n",
    "\n",
    "\n",
    "workflow = graph.compile()\n",
    "workflow"
   ]
  },
  {
   "cell_type": "code",
   "execution_count": null,
   "id": "809c9e75",
   "metadata": {},
   "outputs": [],
   "source": []
  }
 ],
 "metadata": {
  "kernelspec": {
   "display_name": "Python 3",
   "language": "python",
   "name": "python3"
  },
  "language_info": {
   "codemirror_mode": {
    "name": "ipython",
    "version": 3
   },
   "file_extension": ".py",
   "mimetype": "text/x-python",
   "name": "python",
   "nbconvert_exporter": "python",
   "pygments_lexer": "ipython3",
   "version": "3.13.2"
  }
 },
 "nbformat": 4,
 "nbformat_minor": 5
}
