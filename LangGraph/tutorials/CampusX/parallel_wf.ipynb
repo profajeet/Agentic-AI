{
 "cells": [
  {
   "cell_type": "code",
   "execution_count": 11,
   "id": "bac32f28",
   "metadata": {},
   "outputs": [],
   "source": [
    "from langgraph.graph import StateGraph, START, END\n",
    "from typing import TypedDict"
   ]
  },
  {
   "cell_type": "code",
   "execution_count": 12,
   "id": "d28a1476",
   "metadata": {},
   "outputs": [],
   "source": [
    "class BatsmanState(TypedDict):\n",
    "    runs: int\n",
    "    balls: int\n",
    "    fours: int\n",
    "    sixes: int\n",
    "\n",
    "    sr: float # score \n",
    "    bpd: float # balls per ...\n",
    "    boundary_percent: float\n",
    "    summary:str"
   ]
  },
  {
   "cell_type": "code",
   "execution_count": 25,
   "id": "262e3d21",
   "metadata": {},
   "outputs": [],
   "source": [
    "def calculate_sr(state: BatsmanState):\n",
    "    sr = (state['runs']/state['balls'])*100\n",
    "    # state['sr'] = sr\n",
    "    # return state\n",
    "    ## send partial state\n",
    "    return {'sr':sr}"
   ]
  },
  {
   "cell_type": "code",
   "execution_count": 14,
   "id": "9b51695d",
   "metadata": {},
   "outputs": [],
   "source": [
    "def calculate_bpd(state: BatsmanState):\n",
    "    bpd = state['balls']/(state['fours']+state['sixes'])\n",
    "    # state['bpd'] = bpd\n",
    "    # return state\n",
    "    ## send partial state\n",
    "    return {'bpd':bpd}"
   ]
  },
  {
   "cell_type": "code",
   "execution_count": 20,
   "id": "6cc9d553",
   "metadata": {},
   "outputs": [],
   "source": [
    "def calculate_boundry_percentage(state: BatsmanState):\n",
    "    boundary_percent =  (((state['fours']*4)+(state['sixes']*6))/state['runs'])*100\n",
    "    # state['boundary_percent'] = boundary_percent\n",
    "    # return state\n",
    "    ## send partial state\n",
    "    return {'boundary_percent':boundary_percent}"
   ]
  },
  {
   "cell_type": "code",
   "execution_count": 21,
   "id": "12ca7fa2",
   "metadata": {},
   "outputs": [],
   "source": [
    "def summary(state: BatsmanState):\n",
    "    summary=f\"\"\"\n",
    "Strike Rate - {state['sr']} \\n\n",
    "Balls Per Boundry - {state['bpd']} \\n\n",
    "Boundry Percent - {state['boundary_percent']}\n",
    "\"\"\"\n",
    "    # state['summary'] = summary\n",
    "    # return state\n",
    "    ## send partial state\n",
    "    return {'summary':summary}"
   ]
  },
  {
   "cell_type": "code",
   "execution_count": 26,
   "id": "308c0f91",
   "metadata": {},
   "outputs": [],
   "source": [
    "graph = StateGraph(BatsmanState)\n",
    "\n",
    "# adding nodes\n",
    "graph.add_node('calculate_sr', calculate_sr) # calcualte strike rate\n",
    "graph.add_node('calculate_bpd', calculate_bpd) \n",
    "graph.add_node('calculate_boundry_percentage', calculate_boundry_percentage) \n",
    "graph.add_node('summary', summary) \n",
    "\n",
    "# adding edges\n",
    "graph.add_edge(START,'calculate_sr')\n",
    "graph.add_edge(START,'calculate_bpd')\n",
    "graph.add_edge(START,'calculate_boundry_percentage')\n",
    "\n",
    "graph.add_edge('calculate_sr', 'summary')\n",
    "graph.add_edge('calculate_bpd', 'summary')\n",
    "graph.add_edge('calculate_boundry_percentage', 'summary')\n",
    "\n",
    "graph.add_edge('summary', END)\n",
    "workflow = graph.compile()"
   ]
  },
  {
   "cell_type": "code",
   "execution_count": 10,
   "id": "dbb61f7a",
   "metadata": {},
   "outputs": [
    {
     "data": {
      "image/png": "[encoded data removed]",
      "text/plain": [
       "<langgraph.graph.state.CompiledStateGraph object at 0x10cc397f0>"
      ]
     },
     "execution_count": 10,
     "metadata": {},
     "output_type": "execute_result"
    }
   ],
   "source": [
    "workflow"
   ]
  },
  {
   "cell_type": "markdown",
   "id": "fdfca472",
   "metadata": {},
   "source": [
    "### rather than sending the entire state, send only particular state otherwise it will conflict in parallel execution"
   ]
  },
  {
   "cell_type": "code",
   "execution_count": 27,
   "id": "852dc458",
   "metadata": {},
   "outputs": [
    {
     "data": {
      "text/plain": [
       "{'runs': 100,\n",
       " 'balls': 50,\n",
       " 'fours': 6,\n",
       " 'sixes': 4,\n",
       " 'sr': 200.0,\n",
       " 'bpd': 5.0,\n",
       " 'boundary_percent': 48.0,\n",
       " 'summary': '\\nStrike Rate - 200.0 \\n\\nBalls Per Boundry - 5.0 \\n\\nBoundry Percent - 48.0\\n'}"
      ]
     },
     "execution_count": 27,
     "metadata": {},
     "output_type": "execute_result"
    }
   ],
   "source": [
    "initial_state = {\n",
    "    'runs' : 100,\n",
    "    'balls':50,\n",
    "    'fours': 6,\n",
    "    'sixes': 4\n",
    "}\n",
    "final_state = workflow.invoke(initial_state)\n",
    "final_state\n"
   ]
  },
  {
   "cell_type": "code",
   "execution_count": null,
   "id": "2dfb0fc5",
   "metadata": {},
   "outputs": [],
   "source": []
  }
 ],
 "metadata": {
  "kernelspec": {
   "display_name": "Python 3",
   "language": "python",
   "name": "python3"
  },
  "language_info": {
   "codemirror_mode": {
    "name": "ipython",
    "version": 3
   },
   "file_extension": ".py",
   "mimetype": "text/x-python",
   "name": "python",
   "nbconvert_exporter": "python",
   "pygments_lexer": "ipython3",
   "version": "3.13.2"
  }
 },
 "nbformat": 4,
 "nbformat_minor": 5
}
