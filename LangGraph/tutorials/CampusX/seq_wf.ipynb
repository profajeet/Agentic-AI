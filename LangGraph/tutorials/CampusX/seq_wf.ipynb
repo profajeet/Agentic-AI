{
 "cells": [
  {
   "cell_type": "code",
   "execution_count": 2,
   "id": "2c45aa9c",
   "metadata": {},
   "outputs": [
    {
     "name": "stdout",
     "output_type": "stream",
     "text": [
      "Requirement already satisfied: langchain in /Library/Frameworks/Python.framework/Versions/3.13/lib/python3.13/site-packages (0.3.27)\n",
      "Requirement already satisfied: langgraph in /Library/Frameworks/Python.framework/Versions/3.13/lib/python3.13/site-packages (0.6.1)\n",
      "Collecting langgraph\n",
      "  Downloading langgraph-0.6.3-py3-none-any.whl.metadata (6.8 kB)\n",
      "Collecting langchain-community\n",
      "  Downloading langchain_community-0.3.27-py3-none-any.whl.metadata (2.9 kB)\n",
      "Requirement already satisfied: langchain-openai in /Library/Frameworks/Python.framework/Versions/3.13/lib/python3.13/site-packages (0.3.28)\n",
      "Collecting langchain-ollama\n",
      "  Downloading langchain_ollama-0.3.6-py3-none-any.whl.metadata (2.1 kB)\n",
      "Requirement already satisfied: langchain-core<1.0.0,>=0.3.72 in /Library/Frameworks/Python.framework/Versions/3.13/lib/python3.13/site-packages (from langchain) (0.3.72)\n",
      "Requirement already satisfied: langchain-text-splitters<1.0.0,>=0.3.9 in /Library/Frameworks/Python.framework/Versions/3.13/lib/python3.13/site-packages (from langchain) (0.3.9)\n",
      "Requirement already satisfied: langsmith>=0.1.17 in /Library/Frameworks/Python.framework/Versions/3.13/lib/python3.13/site-packages (from langchain) (0.4.8)\n",
      "Requirement already satisfied: pydantic<3.0.0,>=2.7.4 in /Library/Frameworks/Python.framework/Versions/3.13/lib/python3.13/site-packages (from langchain) (2.11.7)\n",
      "Requirement already satisfied: SQLAlchemy<3,>=1.4 in /Library/Frameworks/Python.framework/Versions/3.13/lib/python3.13/site-packages (from langchain) (2.0.42)\n",
      "Requirement already satisfied: requests<3,>=2 in /Library/Frameworks/Python.framework/Versions/3.13/lib/python3.13/site-packages (from langchain) (2.32.4)\n",
      "Requirement already satisfied: PyYAML>=5.3 in /Library/Frameworks/Python.framework/Versions/3.13/lib/python3.13/site-packages (from langchain) (6.0.2)\n",
      "Requirement already satisfied: langgraph-checkpoint<3.0.0,>=2.1.0 in /Library/Frameworks/Python.framework/Versions/3.13/lib/python3.13/site-packages (from langgraph) (2.1.1)\n",
      "Requirement already satisfied: langgraph-prebuilt<0.7.0,>=0.6.0 in /Library/Frameworks/Python.framework/Versions/3.13/lib/python3.13/site-packages (from langgraph) (0.6.1)\n",
      "Requirement already satisfied: langgraph-sdk<0.3.0,>=0.2.0 in /Library/Frameworks/Python.framework/Versions/3.13/lib/python3.13/site-packages (from langgraph) (0.2.0)\n",
      "Requirement already satisfied: xxhash>=3.5.0 in /Library/Frameworks/Python.framework/Versions/3.13/lib/python3.13/site-packages (from langgraph) (3.5.0)\n",
      "Requirement already satisfied: aiohttp<4.0.0,>=3.8.3 in /Library/Frameworks/Python.framework/Versions/3.13/lib/python3.13/site-packages (from langchain-community) (3.12.15)\n",
      "Requirement already satisfied: tenacity!=8.4.0,<10,>=8.1.0 in /Library/Frameworks/Python.framework/Versions/3.13/lib/python3.13/site-packages (from langchain-community) (8.5.0)\n",
      "Collecting dataclasses-json<0.7,>=0.5.7 (from langchain-community)\n",
      "  Using cached dataclasses_json-0.6.7-py3-none-any.whl.metadata (25 kB)\n",
      "Requirement already satisfied: pydantic-settings<3.0.0,>=2.4.0 in /Library/Frameworks/Python.framework/Versions/3.13/lib/python3.13/site-packages (from langchain-community) (2.10.1)\n",
      "Requirement already satisfied: httpx-sse<1.0.0,>=0.4.0 in /Library/Frameworks/Python.framework/Versions/3.13/lib/python3.13/site-packages (from langchain-community) (0.4.0)\n",
      "Collecting numpy>=2.1.0 (from langchain-community)\n",
      "  Downloading numpy-2.3.2-cp313-cp313-macosx_14_0_arm64.whl.metadata (62 kB)\n",
      "Requirement already satisfied: openai<2.0.0,>=1.86.0 in /Library/Frameworks/Python.framework/Versions/3.13/lib/python3.13/site-packages (from langchain-openai) (1.98.0)\n",
      "Requirement already satisfied: tiktoken<1,>=0.7 in /Library/Frameworks/Python.framework/Versions/3.13/lib/python3.13/site-packages (from langchain-openai) (0.9.0)\n",
      "Collecting ollama<1.0.0,>=0.5.1 (from langchain-ollama)\n",
      "  Downloading ollama-0.5.1-py3-none-any.whl.metadata (4.3 kB)\n",
      "Requirement already satisfied: aiohappyeyeballs>=2.5.0 in /Library/Frameworks/Python.framework/Versions/3.13/lib/python3.13/site-packages (from aiohttp<4.0.0,>=3.8.3->langchain-community) (2.6.1)\n",
      "Requirement already satisfied: aiosignal>=1.4.0 in /Library/Frameworks/Python.framework/Versions/3.13/lib/python3.13/site-packages (from aiohttp<4.0.0,>=3.8.3->langchain-community) (1.4.0)\n",
      "Requirement already satisfied: attrs>=17.3.0 in /Library/Frameworks/Python.framework/Versions/3.13/lib/python3.13/site-packages (from aiohttp<4.0.0,>=3.8.3->langchain-community) (25.3.0)\n",
      "Requirement already satisfied: frozenlist>=1.1.1 in /Library/Frameworks/Python.framework/Versions/3.13/lib/python3.13/site-packages (from aiohttp<4.0.0,>=3.8.3->langchain-community) (1.7.0)\n",
      "Requirement already satisfied: multidict<7.0,>=4.5 in /Library/Frameworks/Python.framework/Versions/3.13/lib/python3.13/site-packages (from aiohttp<4.0.0,>=3.8.3->langchain-community) (6.6.3)\n",
      "Requirement already satisfied: propcache>=0.2.0 in /Library/Frameworks/Python.framework/Versions/3.13/lib/python3.13/site-packages (from aiohttp<4.0.0,>=3.8.3->langchain-community) (0.3.2)\n",
      "Requirement already satisfied: yarl<2.0,>=1.17.0 in /Library/Frameworks/Python.framework/Versions/3.13/lib/python3.13/site-packages (from aiohttp<4.0.0,>=3.8.3->langchain-community) (1.20.1)\n",
      "Collecting marshmallow<4.0.0,>=3.18.0 (from dataclasses-json<0.7,>=0.5.7->langchain-community)\n",
      "  Using cached marshmallow-3.26.1-py3-none-any.whl.metadata (7.3 kB)\n",
      "Collecting typing-inspect<1,>=0.4.0 (from dataclasses-json<0.7,>=0.5.7->langchain-community)\n",
      "  Using cached typing_inspect-0.9.0-py3-none-any.whl.metadata (1.5 kB)\n",
      "Requirement already satisfied: jsonpatch<2.0,>=1.33 in /Library/Frameworks/Python.framework/Versions/3.13/lib/python3.13/site-packages (from langchain-core<1.0.0,>=0.3.72->langchain) (1.33)\n",
      "Requirement already satisfied: typing-extensions>=4.7 in /Library/Frameworks/Python.framework/Versions/3.13/lib/python3.13/site-packages (from langchain-core<1.0.0,>=0.3.72->langchain) (4.14.1)\n",
      "Requirement already satisfied: packaging>=23.2 in /Library/Frameworks/Python.framework/Versions/3.13/lib/python3.13/site-packages (from langchain-core<1.0.0,>=0.3.72->langchain) (25.0)\n",
      "Requirement already satisfied: ormsgpack>=1.10.0 in /Library/Frameworks/Python.framework/Versions/3.13/lib/python3.13/site-packages (from langgraph-checkpoint<3.0.0,>=2.1.0->langgraph) (1.10.0)\n",
      "Requirement already satisfied: httpx>=0.25.2 in /Library/Frameworks/Python.framework/Versions/3.13/lib/python3.13/site-packages (from langgraph-sdk<0.3.0,>=0.2.0->langgraph) (0.28.1)\n",
      "Requirement already satisfied: orjson>=3.10.1 in /Library/Frameworks/Python.framework/Versions/3.13/lib/python3.13/site-packages (from langgraph-sdk<0.3.0,>=0.2.0->langgraph) (3.11.1)\n",
      "Requirement already satisfied: requests-toolbelt<2.0.0,>=1.0.0 in /Library/Frameworks/Python.framework/Versions/3.13/lib/python3.13/site-packages (from langsmith>=0.1.17->langchain) (1.0.0)\n",
      "Requirement already satisfied: zstandard<0.24.0,>=0.23.0 in /Library/Frameworks/Python.framework/Versions/3.13/lib/python3.13/site-packages (from langsmith>=0.1.17->langchain) (0.23.0)\n",
      "Requirement already satisfied: anyio<5,>=3.5.0 in /Library/Frameworks/Python.framework/Versions/3.13/lib/python3.13/site-packages (from openai<2.0.0,>=1.86.0->langchain-openai) (4.9.0)\n",
      "Requirement already satisfied: distro<2,>=1.7.0 in /Library/Frameworks/Python.framework/Versions/3.13/lib/python3.13/site-packages (from openai<2.0.0,>=1.86.0->langchain-openai) (1.9.0)\n",
      "Requirement already satisfied: jiter<1,>=0.4.0 in /Library/Frameworks/Python.framework/Versions/3.13/lib/python3.13/site-packages (from openai<2.0.0,>=1.86.0->langchain-openai) (0.10.0)\n",
      "Requirement already satisfied: sniffio in /Library/Frameworks/Python.framework/Versions/3.13/lib/python3.13/site-packages (from openai<2.0.0,>=1.86.0->langchain-openai) (1.3.1)\n",
      "Requirement already satisfied: tqdm>4 in /Library/Frameworks/Python.framework/Versions/3.13/lib/python3.13/site-packages (from openai<2.0.0,>=1.86.0->langchain-openai) (4.67.1)\n",
      "Requirement already satisfied: annotated-types>=0.6.0 in /Library/Frameworks/Python.framework/Versions/3.13/lib/python3.13/site-packages (from pydantic<3.0.0,>=2.7.4->langchain) (0.7.0)\n",
      "Requirement already satisfied: pydantic-core==2.33.2 in /Library/Frameworks/Python.framework/Versions/3.13/lib/python3.13/site-packages (from pydantic<3.0.0,>=2.7.4->langchain) (2.33.2)\n",
      "Requirement already satisfied: typing-inspection>=0.4.0 in /Library/Frameworks/Python.framework/Versions/3.13/lib/python3.13/site-packages (from pydantic<3.0.0,>=2.7.4->langchain) (0.4.1)\n",
      "Requirement already satisfied: python-dotenv>=0.21.0 in /Library/Frameworks/Python.framework/Versions/3.13/lib/python3.13/site-packages (from pydantic-settings<3.0.0,>=2.4.0->langchain-community) (1.1.1)\n",
      "Requirement already satisfied: charset_normalizer<4,>=2 in /Library/Frameworks/Python.framework/Versions/3.13/lib/python3.13/site-packages (from requests<3,>=2->langchain) (3.4.2)\n",
      "Requirement already satisfied: idna<4,>=2.5 in /Library/Frameworks/Python.framework/Versions/3.13/lib/python3.13/site-packages (from requests<3,>=2->langchain) (3.10)\n",
      "Requirement already satisfied: urllib3<3,>=1.21.1 in /Library/Frameworks/Python.framework/Versions/3.13/lib/python3.13/site-packages (from requests<3,>=2->langchain) (2.5.0)\n",
      "Requirement already satisfied: certifi>=2017.4.17 in /Library/Frameworks/Python.framework/Versions/3.13/lib/python3.13/site-packages (from requests<3,>=2->langchain) (2025.7.14)\n",
      "Requirement already satisfied: regex>=2022.1.18 in /Library/Frameworks/Python.framework/Versions/3.13/lib/python3.13/site-packages (from tiktoken<1,>=0.7->langchain-openai) (2025.7.33)\n",
      "Requirement already satisfied: httpcore==1.* in /Library/Frameworks/Python.framework/Versions/3.13/lib/python3.13/site-packages (from httpx>=0.25.2->langgraph-sdk<0.3.0,>=0.2.0->langgraph) (1.0.9)\n",
      "Requirement already satisfied: h11>=0.16 in /Library/Frameworks/Python.framework/Versions/3.13/lib/python3.13/site-packages (from httpcore==1.*->httpx>=0.25.2->langgraph-sdk<0.3.0,>=0.2.0->langgraph) (0.16.0)\n",
      "Requirement already satisfied: jsonpointer>=1.9 in /Library/Frameworks/Python.framework/Versions/3.13/lib/python3.13/site-packages (from jsonpatch<2.0,>=1.33->langchain-core<1.0.0,>=0.3.72->langchain) (3.0.0)\n",
      "Requirement already satisfied: mypy-extensions>=0.3.0 in /Library/Frameworks/Python.framework/Versions/3.13/lib/python3.13/site-packages (from typing-inspect<1,>=0.4.0->dataclasses-json<0.7,>=0.5.7->langchain-community) (1.1.0)\n",
      "Downloading langgraph-0.6.3-py3-none-any.whl (152 kB)\n",
      "Downloading langchain_community-0.3.27-py3-none-any.whl (2.5 MB)\n",
      "\u001b[2K   \u001b[90m━━━━━━━━━━━━━━━━━━━━━━━━━━━━━━━━━━━━━━━━\u001b[0m \u001b[32m2.5/2.5 MB\u001b[0m \u001b[31m3.8 MB/s\u001b[0m eta \u001b[36m0:00:00\u001b[0ma \u001b[36m0:00:01\u001b[0m\n",
      "\u001b[?25hDownloading langchain_ollama-0.3.6-py3-none-any.whl (24 kB)\n",
      "Using cached dataclasses_json-0.6.7-py3-none-any.whl (28 kB)\n",
      "Downloading numpy-2.3.2-cp313-cp313-macosx_14_0_arm64.whl (5.1 MB)\n",
      "\u001b[2K   \u001b[90m━━━━━━━━━━━━━━━━━━━━━━━━━━━━━━━━━━━━━━━━\u001b[0m \u001b[32m5.1/5.1 MB\u001b[0m \u001b[31m7.6 MB/s\u001b[0m eta \u001b[36m0:00:00\u001b[0ma \u001b[36m0:00:01\u001b[0m\n",
      "\u001b[?25hDownloading ollama-0.5.1-py3-none-any.whl (13 kB)\n",
      "Using cached marshmallow-3.26.1-py3-none-any.whl (50 kB)\n",
      "Using cached typing_inspect-0.9.0-py3-none-any.whl (8.8 kB)\n",
      "Installing collected packages: typing-inspect, numpy, marshmallow, dataclasses-json, ollama, langchain-ollama, langgraph, langchain-community\n",
      "  Attempting uninstall: langgraph\n",
      "    Found existing installation: langgraph 0.6.1\n",
      "    Uninstalling langgraph-0.6.1:\n",
      "      Successfully uninstalled langgraph-0.6.1\n",
      "Successfully installed dataclasses-json-0.6.7 langchain-community-0.3.27 langchain-ollama-0.3.6 langgraph-0.6.3 marshmallow-3.26.1 numpy-2.3.2 ollama-0.5.1 typing-inspect-0.9.0\n",
      "\n",
      "\u001b[1m[\u001b[0m\u001b[34;49mnotice\u001b[0m\u001b[1;39;49m]\u001b[0m\u001b[39;49m A new release of pip is available: \u001b[0m\u001b[31;49m24.3.1\u001b[0m\u001b[39;49m -> \u001b[0m\u001b[32;49m25.1.1\u001b[0m\n",
      "\u001b[1m[\u001b[0m\u001b[34;49mnotice\u001b[0m\u001b[1;39;49m]\u001b[0m\u001b[39;49m To update, run: \u001b[0m\u001b[32;49mpip3 install --upgrade pip\u001b[0m\n"
     ]
    }
   ],
   "source": [
    "! pip3 install -U langchain langgraph langchain-community langchain-openai langchain-ollama"
   ]
  },
  {
   "cell_type": "code",
   "execution_count": 3,
   "id": "3b55aa76",
   "metadata": {},
   "outputs": [
    {
     "name": "stdout",
     "output_type": "stream",
     "text": [
      "Requirement already satisfied: pip in /Library/Frameworks/Python.framework/Versions/3.13/lib/python3.13/site-packages (24.3.1)\n",
      "Collecting pip\n",
      "  Downloading pip-25.2-py3-none-any.whl.metadata (4.7 kB)\n",
      "Downloading pip-25.2-py3-none-any.whl (1.8 MB)\n",
      "\u001b[2K   \u001b[90m━━━━━━━━━━━━━━━━━━━━━━━━━━━━━━━━━━━━━━━━\u001b[0m \u001b[32m1.8/1.8 MB\u001b[0m \u001b[31m9.8 MB/s\u001b[0m eta \u001b[36m0:00:00\u001b[0m-:--:--\u001b[0m\n",
      "\u001b[?25hInstalling collected packages: pip\n",
      "  Attempting uninstall: pip\n",
      "    Found existing installation: pip 24.3.1\n",
      "    Uninstalling pip-24.3.1:\n",
      "      Successfully uninstalled pip-24.3.1\n",
      "Successfully installed pip-25.2\n"
     ]
    }
   ],
   "source": [
    "!pip3 install --upgrade pip"
   ]
  },
  {
   "cell_type": "markdown",
   "id": "28dc9929",
   "metadata": {},
   "source": [
    "# simple workflow"
   ]
  },
  {
   "cell_type": "code",
   "execution_count": 11,
   "id": "ed77931b",
   "metadata": {},
   "outputs": [],
   "source": [
    "from langgraph.graph import StateGraph, START, END\n",
    "from typing import TypedDict"
   ]
  },
  {
   "cell_type": "code",
   "execution_count": 7,
   "id": "a81a67c2",
   "metadata": {},
   "outputs": [],
   "source": [
    "# define state\n",
    "class BMIState(TypedDict):\n",
    "    weight_kg: float\n",
    "    height_m: float\n",
    "    bmi: float\n"
   ]
  },
  {
   "cell_type": "code",
   "execution_count": 8,
   "id": "58512efb",
   "metadata": {},
   "outputs": [],
   "source": [
    "def calculate_bmi(state : BMIState)-> BMIState:\n",
    "    weight = state['weight_kg']\n",
    "    height = state['height_m']\n",
    "    bmi = weight/(height**2)\n",
    "    state['bmi'] = round(bmi,2)\n",
    "    return state\n"
   ]
  },
  {
   "cell_type": "code",
   "execution_count": 13,
   "id": "e796ac3a",
   "metadata": {},
   "outputs": [],
   "source": [
    "graph = StateGraph(BMIState)\n",
    "\n",
    "graph.add_node('calculate_bmi', calculate_bmi)\n",
    "graph.add_edge(START, 'calculate_bmi')\n",
    "graph.add_edge('calculate_bmi',END)\n",
    "\n",
    "workflow = graph.compile()"
   ]
  },
  {
   "cell_type": "code",
   "execution_count": 14,
   "id": "cdbe6d22",
   "metadata": {},
   "outputs": [
    {
     "name": "stdout",
     "output_type": "stream",
     "text": [
      "{'weight_kg': 63, 'height_m': 1.73, 'bmi': 21.05}\n"
     ]
    }
   ],
   "source": [
    "# execute\n",
    "initial_state = {'weight_kg':63, 'height_m':1.73}\n",
    "final_state = workflow.invoke(initial_state)\n",
    "print(final_state)"
   ]
  },
  {
   "cell_type": "code",
   "execution_count": 15,
   "id": "c6f6e087",
   "metadata": {},
   "outputs": [
    {
     "data": {
      "image/png": "[encoded data removed]",
      "text/plain": [
       "<IPython.core.display.Image object>"
      ]
     },
     "execution_count": 15,
     "metadata": {},
     "output_type": "execute_result"
    }
   ],
   "source": [
    "from IPython.display import Image\n",
    "Image(workflow.get_graph().draw_mermaid_png())"
   ]
  },
  {
   "cell_type": "markdown",
   "id": "34423c88",
   "metadata": {},
   "source": [
    "# complex graph"
   ]
  },
  {
   "cell_type": "code",
   "execution_count": 3,
   "id": "d6b29790",
   "metadata": {},
   "outputs": [],
   "source": [
    "from langgraph.graph import StateGraph, START, END\n",
    "from typing import TypedDict"
   ]
  },
  {
   "cell_type": "code",
   "execution_count": 4,
   "id": "518e2cbf",
   "metadata": {},
   "outputs": [],
   "source": [
    "# define state\n",
    "class BMIState(TypedDict):\n",
    "    weight_kg: float\n",
    "    height_m: float\n",
    "    bmi: float\n",
    "    category: str\n"
   ]
  },
  {
   "cell_type": "code",
   "execution_count": 5,
   "id": "21d66ad1",
   "metadata": {},
   "outputs": [],
   "source": [
    "def calculate_bmi(state : BMIState)-> BMIState:\n",
    "    weight = state['weight_kg']\n",
    "    height = state['height_m']\n",
    "    bmi = weight/(height**2)\n",
    "    state['bmi'] = round(bmi,2)\n",
    "    return state\n",
    "\n",
    "def label_bmi(state: BMIState)->BMIState:\n",
    "    bmi = state['bmi']\n",
    "    if bmi < 18.5:\n",
    "        state['category'] = 'Underweight'\n",
    "    elif 18.5<= bmi < 25:\n",
    "        state['category'] = 'Normal'\n",
    "    else:\n",
    "        state['category'] = 'Obese'\n",
    "    return state\n"
   ]
  },
  {
   "cell_type": "code",
   "execution_count": 6,
   "id": "6bf6463c",
   "metadata": {},
   "outputs": [],
   "source": [
    "graph = StateGraph(BMIState)\n",
    "\n",
    "graph.add_node('calculate_bmi', calculate_bmi)\n",
    "graph.add_node('label_bmi',label_bmi)\n",
    "graph.add_edge(START, 'calculate_bmi')\n",
    "graph.add_edge('calculate_bmi', 'label_bmi')\n",
    "graph.add_edge('label_bmi',END)\n",
    "\n",
    "workflow = graph.compile()"
   ]
  },
  {
   "cell_type": "code",
   "execution_count": 7,
   "id": "ac260a4a",
   "metadata": {},
   "outputs": [
    {
     "name": "stdout",
     "output_type": "stream",
     "text": [
      "{'weight_kg': 63, 'height_m': 1.73, 'bmi': 21.05, 'category': 'Normal'}\n"
     ]
    }
   ],
   "source": [
    "# execute\n",
    "initial_state = {'weight_kg':63, 'height_m':1.73}\n",
    "final_state = workflow.invoke(initial_state)\n",
    "print(final_state)"
   ]
  },
  {
   "cell_type": "code",
   "execution_count": 8,
   "id": "1777a3be",
   "metadata": {},
   "outputs": [
    {
     "data": {
      "image/png": "[encoded data removed]",
      "text/plain": [
       "<IPython.core.display.Image object>"
      ]
     },
     "execution_count": 8,
     "metadata": {},
     "output_type": "execute_result"
    }
   ],
   "source": [
    "from IPython.display import Image\n",
    "Image(workflow.get_graph().draw_mermaid_png())"
   ]
  },
  {
   "cell_type": "markdown",
   "id": "628c9128",
   "metadata": {},
   "source": [
    "# LLM based workflow"
   ]
  },
  {
   "cell_type": "code",
   "execution_count": 13,
   "id": "45cda168",
   "metadata": {},
   "outputs": [],
   "source": [
    "from langgraph.graph import StateGraph, START, END\n",
    "from langchain_ollama import ChatOllama\n",
    "from typing import TypedDict"
   ]
  },
  {
   "cell_type": "code",
   "execution_count": 10,
   "id": "c7bfd23f",
   "metadata": {},
   "outputs": [],
   "source": [
    "model_name = 'llama3.2'\n",
    "model = ChatOllama(model=model_name)"
   ]
  },
  {
   "cell_type": "code",
   "execution_count": 39,
   "id": "0feef742",
   "metadata": {},
   "outputs": [
    {
     "data": {
      "text/plain": [
       "AIMessage(content='How can I assist you today?', additional_kwargs={}, response_metadata={'model': 'llama3.2', 'created_at': '2025-08-04T17:32:02.008144Z', 'done': True, 'done_reason': 'stop', 'total_duration': 2736116583, 'load_duration': 2240841916, 'prompt_eval_count': 26, 'prompt_eval_duration': 286631083, 'eval_count': 8, 'eval_duration': 207884625, 'model_name': 'llama3.2'}, id='run--658e9eeb-e774-4265-a4d6-3db9c99fd29a-0', usage_metadata={'input_tokens': 26, 'output_tokens': 8, 'total_tokens': 34})"
      ]
     },
     "execution_count": 39,
     "metadata": {},
     "output_type": "execute_result"
    }
   ],
   "source": [
    "# test model\n",
    "model.invoke(\"hi\")"
   ]
  },
  {
   "cell_type": "code",
   "execution_count": 12,
   "id": "d09191f8",
   "metadata": {},
   "outputs": [],
   "source": [
    "# crete state\n",
    "class LLMState(TypedDict):\n",
    "    question: str\n",
    "    answer: str\n"
   ]
  },
  {
   "cell_type": "code",
   "execution_count": 14,
   "id": "0927fffe",
   "metadata": {},
   "outputs": [],
   "source": [
    "def llm_qa(state: LLMState)-> LLMState:\n",
    "    question = state['question']\n",
    "    prompt = f'Answer the following question: {question}'\n",
    "    answer = model.invoke(prompt).content\n",
    "    state['answer'] = answer\n",
    "    return state\n"
   ]
  },
  {
   "cell_type": "code",
   "execution_count": 15,
   "id": "dc5a5771",
   "metadata": {},
   "outputs": [],
   "source": [
    "# crete graph\n",
    "graph = StateGraph(LLMState)\n",
    " # add node\n",
    "graph.add_node('llm_qa', llm_qa)\n",
    "\n",
    "graph.add_edge(START,'llm_qa')\n",
    "graph.add_edge('llm_qa',END)\n",
    "\n",
    "workflow =  graph.compile()\n",
    "\n"
   ]
  },
  {
   "cell_type": "code",
   "execution_count": 16,
   "id": "a00695b6",
   "metadata": {},
   "outputs": [
    {
     "name": "stdout",
     "output_type": "stream",
     "text": [
      "{'question': 'What is AI?', 'answer': 'AI, or Artificial Intelligence, refers to the development of computer systems that can perform tasks that would typically require human intelligence, such as learning, problem-solving, decision-making, and perception.\\n\\nThere are several types of AI, including:\\n\\n1. Narrow or Weak AI: This type of AI is designed to perform a specific task, such as facial recognition or language translation.\\n2. General or Strong AI: This type of AI is designed to perform any intellectual task that a human can, and has the ability to learn and improve over time.\\n3. Superintelligence: This type of AI is significantly more intelligent than the best human minds, and has the potential to solve complex problems that are currently unsolvable.\\n\\nSome common applications of AI include:\\n\\n1. Virtual assistants, such as Siri or Alexa\\n2. Image recognition and object detection\\n3. Natural language processing (NLP) for chatbots and voice assistants\\n4. Predictive analytics and machine learning algorithms\\n5. Self-driving cars and drones\\n\\nAI has many potential benefits, including:\\n\\n1. Increased efficiency and productivity\\n2. Improved decision-making and problem-solving\\n3. Enhanced customer experience and personalization\\n4. Increased safety and security (e.g., through predictive maintenance)\\n5. Potential breakthroughs in medical diagnosis and treatment\\n\\nHowever, AI also raises concerns about job displacement, bias, and the potential for machines to make decisions that are not aligned with human values.\\n\\nOverall, AI is a rapidly evolving field that holds great promise for transforming many aspects of our lives, but it also requires careful consideration of its potential risks and benefits.'}\n"
     ]
    }
   ],
   "source": [
    "initial_state = {'question':'What is AI?'}\n",
    "final_state = workflow.invoke(initial_state)\n",
    "print(final_state)"
   ]
  },
  {
   "cell_type": "code",
   "execution_count": 17,
   "id": "0d3b946e",
   "metadata": {},
   "outputs": [
    {
     "name": "stdout",
     "output_type": "stream",
     "text": [
      "AI, or Artificial Intelligence, refers to the development of computer systems that can perform tasks that would typically require human intelligence, such as learning, problem-solving, decision-making, and perception.\n",
      "\n",
      "There are several types of AI, including:\n",
      "\n",
      "1. Narrow or Weak AI: This type of AI is designed to perform a specific task, such as facial recognition or language translation.\n",
      "2. General or Strong AI: This type of AI is designed to perform any intellectual task that a human can, and has the ability to learn and improve over time.\n",
      "3. Superintelligence: This type of AI is significantly more intelligent than the best human minds, and has the potential to solve complex problems that are currently unsolvable.\n",
      "\n",
      "Some common applications of AI include:\n",
      "\n",
      "1. Virtual assistants, such as Siri or Alexa\n",
      "2. Image recognition and object detection\n",
      "3. Natural language processing (NLP) for chatbots and voice assistants\n",
      "4. Predictive analytics and machine learning algorithms\n",
      "5. Self-driving cars and drones\n",
      "\n",
      "AI has many potential benefits, including:\n",
      "\n",
      "1. Increased efficiency and productivity\n",
      "2. Improved decision-making and problem-solving\n",
      "3. Enhanced customer experience and personalization\n",
      "4. Increased safety and security (e.g., through predictive maintenance)\n",
      "5. Potential breakthroughs in medical diagnosis and treatment\n",
      "\n",
      "However, AI also raises concerns about job displacement, bias, and the potential for machines to make decisions that are not aligned with human values.\n",
      "\n",
      "Overall, AI is a rapidly evolving field that holds great promise for transforming many aspects of our lives, but it also requires careful consideration of its potential risks and benefits.\n"
     ]
    }
   ],
   "source": [
    "print(final_state['answer'])"
   ]
  },
  {
   "cell_type": "markdown",
   "id": "8443e3be",
   "metadata": {},
   "source": [
    "# prompt chaining workflow"
   ]
  },
  {
   "cell_type": "markdown",
   "id": "245b476b",
   "metadata": {},
   "source": [
    "------\n",
    "* topic -> blog generate \n",
    "\n",
    "* start --> generate outline --> generate blog --> end"
   ]
  },
  {
   "cell_type": "code",
   "execution_count": null,
   "id": "b0164909",
   "metadata": {},
   "outputs": [],
   "source": []
  },
  {
   "cell_type": "code",
   "execution_count": 24,
   "id": "01cbf060",
   "metadata": {},
   "outputs": [],
   "source": [
    "from langgraph.graph import StateGraph, START, END\n",
    "from langchain_ollama import ChatOllama\n",
    "from typing import TypedDict"
   ]
  },
  {
   "cell_type": "code",
   "execution_count": 25,
   "id": "1e39ffae",
   "metadata": {},
   "outputs": [],
   "source": [
    "model_name = 'llama3.2'\n",
    "model = ChatOllama(model=model_name)"
   ]
  },
  {
   "cell_type": "code",
   "execution_count": 26,
   "id": "b02638f3",
   "metadata": {},
   "outputs": [],
   "source": [
    "# crete state\n",
    "class BlogState(TypedDict):\n",
    "    title: str\n",
    "    outline: str\n",
    "    content: str\n"
   ]
  },
  {
   "cell_type": "code",
   "execution_count": 40,
   "id": "2d9f6992",
   "metadata": {},
   "outputs": [],
   "source": [
    "def create_outline(state: BlogState)->BlogState:\n",
    "    title = state['title']\n",
    "    print(title)\n",
    "    prompt = f'Generate a detailed outline for a blog on the topic -{title}'\n",
    "    outline = model.invoke(prompt).content\n",
    "    state['outline'] = outline\n",
    "    return state"
   ]
  },
  {
   "cell_type": "code",
   "execution_count": 41,
   "id": "bf8ace38",
   "metadata": {},
   "outputs": [],
   "source": [
    "def create_blog(state: BlogState)-> BlogState:\n",
    "    title = state['title']\n",
    "    outline = state['outline']\n",
    "    prompt = f'Write a detailed blog on the title - {title} using the following outline \\n{outline}'\n",
    "    content = model.invoke(prompt).content\n",
    "    state['content'] = content\n",
    "    return state"
   ]
  },
  {
   "cell_type": "code",
   "execution_count": 45,
   "id": "bd2b9bcb",
   "metadata": {},
   "outputs": [],
   "source": [
    "# crete graph\n",
    "graph = StateGraph(BlogState)\n",
    " # add node\n",
    "graph.add_node('create_outline', create_outline)\n",
    "graph.add_node('create_blog', create_blog)\n",
    "\n",
    "graph.add_edge(START,'create_outline')\n",
    "graph.add_edge('create_outline','create_blog')\n",
    "graph.add_edge('create_blog',END)\n",
    "\n",
    "\n",
    "workflow =  graph.compile()\n",
    "\n"
   ]
  },
  {
   "cell_type": "code",
   "execution_count": 47,
   "id": "8c48cea4",
   "metadata": {},
   "outputs": [
    {
     "data": {
      "image/png": "[encoded data removed]",
      "text/plain": [
       "<IPython.core.display.Image object>"
      ]
     },
     "execution_count": 47,
     "metadata": {},
     "output_type": "execute_result"
    }
   ],
   "source": [
    "from IPython.display import Image\n",
    "Image(workflow.get_graph().draw_mermaid_png())"
   ]
  },
  {
   "cell_type": "code",
   "execution_count": 46,
   "id": "9184a245",
   "metadata": {},
   "outputs": [
    {
     "name": "stdout",
     "output_type": "stream",
     "text": [
      "Evolution of AI\n",
      "{'title': 'Evolution of AI', 'outline': 'Here is a detailed outline for a blog on the evolution of AI:\\n\\n**I. Introduction**\\n\\n* Brief overview of Artificial Intelligence (AI)\\n* Importance of understanding the evolution of AI\\n* Thesis statement: The evolution of AI has been shaped by significant technological advancements, scientific breakthroughs, and societal needs.\\n\\n**II. Early Beginnings of AI (1950s-1960s)**\\n\\n* History of the Dartmouth Summer Research Project on Artificial Intelligence\\n* Development of early AI theories and concepts (e.g., symbolic reasoning, machine learning)\\n* Key figures in the early days of AI research (e.g., Alan Turing, Marvin Minsky)\\n\\n**III. Rule-Based Expert Systems (1970s-1980s)**\\n\\n* Overview of rule-based expert systems\\n* Advantages and limitations of this approach\\n* Examples of successful applications (e.g., medical diagnosis, financial forecasting)\\n\\n**IV. Machine Learning and Neural Networks (1980s-1990s)**\\n\\n* Introduction to machine learning and its applications\\n* Development of neural networks and their role in AI\\n* Key researchers and breakthroughs in this area (e.g., David Rumelhart, Geoffrey Hinton)\\n\\n**V. AI Winter and the Rise of Statistics (1990s-2000s)**\\n\\n* Explanation of the \"AI winter\" phenomenon\\n* Shift towards statistical machine learning and data-driven approaches\\n* Advantages and limitations of this approach\\n\\n**VI. The Dawn of Deep Learning (2010s-present)**\\n\\n* Overview of deep learning techniques and architectures (e.g., convolutional neural networks, recurrent neural networks)\\n* Breakthroughs and applications in areas like computer vision, natural language processing, and speech recognition\\n* Key researchers and organizations driving the development of deep learning\\n\\n**VII. Current State and Future Directions of AI**\\n\\n* Overview of current AI applications and challenges (e.g., Explainability, Fairness, Safety)\\n* Emerging trends and technologies (e.g., Edge AI, Transfer Learning, Quantum AI)\\n* Implications for society, economy, and individual lives\\n\\n**VIII. Conclusion**\\n\\n* Recap of the evolution of AI\\n* Reflections on the future of AI and its potential impact on humanity\\n* Final thoughts and call to action.\\n\\n**Additional Sections (Optional)**\\n\\n1. **AI in Industry**: Exploring the role of AI in various industries, such as healthcare, finance, transportation, and education.\\n2. **AI Ethics and Responsibility**: Discussing the challenges and opportunities related to the responsible development and deployment of AI systems.\\n3. **Human-AI Collaboration**: Examining the potential benefits and limitations of human-AI collaboration in areas like creativity, problem-solving, and decision-making.\\n\\n**Additional Resources (Optional)**\\n\\n* List of recommended books, articles, research papers, and online courses on AI\\n* Links to relevant datasets, software tools, and open-source libraries for AI development', 'content': '# The Evolution of AI: A Journey from Humble Beginnings to Cutting-Edge Technology\\n\\nArtificial Intelligence (AI) has come a long way since its inception in the 1950s. From humble beginnings as a theoretical concept to the sophisticated technology we know today, AI has undergone significant transformations driven by technological advancements, scientific breakthroughs, and societal needs.\\n\\n## I. Introduction\\n\\nThe importance of understanding the evolution of AI cannot be overstated. As AI continues to shape our lives in profound ways, it is crucial to comprehend its history, current state, and future directions. This blog will take you on a journey through the evolution of AI, highlighting key milestones, breakthroughs, and challenges along the way.\\n\\n## II. Early Beginnings of AI (1950s-1960s)\\n\\nThe Dartmouth Summer Research Project on Artificial Intelligence (1956) marked the beginning of AI as a field of research. Alan Turing\\'s concept of the Universal Machine (1936) laid the foundation for modern computer science, while Marvin Minsky\\'s work on neural networks and machine learning paved the way for future innovations.\\n\\nKey figures like John McCarthy, who coined the term \"Artificial Intelligence,\" and Allen Newell and Herbert Simon, who developed the first AI programming language, contributed significantly to the field\\'s early development.\\n\\n## III. Rule-Based Expert Systems (1970s-1980s)\\n\\nRule-based expert systems emerged as a prominent approach in the 1970s and 1980s. These systems relied on hand-coded rules to mimic human decision-making processes. While successful in specific domains like medical diagnosis, their limitations became apparent, particularly with complex or uncertain situations.\\n\\n## IV. Machine Learning and Neural Networks (1980s-1990s)\\n\\nMachine learning and neural networks revolutionized the field of AI in the 1980s and 1990s. David Rumelhart\\'s backpropagation algorithm (1986) and Geoffrey Hinton\\'s work on neural networks enabled the development of more sophisticated models.\\n\\nKey researchers like Yann LeCun, Yoshua Bengio, and Ronald Jelinek made significant contributions to machine learning and deep learning, laying the groundwork for future breakthroughs.\\n\\n## V. AI Winter and the Rise of Statistics (1990s-2000s)\\n\\nThe 1990s saw a decline in interest in AI, marked by the \"AI winter.\" This period was characterized by a lack of funding, reduced research output, and decreased public enthusiasm. However, the rise of statistics and machine learning revived interest in the field.\\n\\n## VI. The Dawn of Deep Learning (2010s-present)\\n\\nDeep learning emerged as a dominant force in AI research in the 2010s. Techniques like convolutional neural networks (CNNs) and recurrent neural networks (RNNs) enabled significant breakthroughs in areas like:\\n\\n*   Computer vision: Image recognition, object detection, and image generation\\n*   Natural language processing: Language translation, sentiment analysis, and text summarization\\n*   Speech recognition: Automatic speech recognition and voice assistants\\n\\n## VII. Current State and Future Directions of AI\\n\\nCurrent AI applications face significant challenges, including:\\n\\n*   Explainability: Understanding how AI models make decisions\\n*   Fairness: Ensuring AI systems are unbiased and equitable\\n*   Safety: Preventing AI systems from causing harm or unintended consequences\\n\\nEmerging trends and technologies include:\\n\\n*   Edge AI: AI computing at the edge of networks, enabling real-time processing and reduced latency\\n*   Transfer Learning: Leveraging pre-trained models for faster adaptation to new tasks\\n*   Quantum AI: Exploring the potential of quantum computing for AI applications\\n\\n## VIII. Conclusion\\n\\nThe evolution of AI has been shaped by significant technological advancements, scientific breakthroughs, and societal needs. As we move forward, it is essential to acknowledge both the benefits and challenges associated with AI.\\n\\nBy understanding the history and current state of AI, we can better prepare ourselves for its future impact on society, economy, and individual lives.\\n\\n## Additional Sections (Optional)\\n\\n*   **AI in Industry**: Exploring the role of AI in various industries, such as healthcare, finance, transportation, and education.\\n*   **AI Ethics and Responsibility**: Discussing the challenges and opportunities related to the responsible development and deployment of AI systems.\\n*   **Human-AI Collaboration**: Examining the potential benefits and limitations of human-AI collaboration in areas like creativity, problem-solving, and decision-making.\\n\\n## Additional Resources (Optional)\\n\\n*   List of recommended books, articles, research papers, and online courses on AI\\n*   Links to relevant datasets, software tools, and open-source libraries for AI development'}\n"
     ]
    }
   ],
   "source": [
    "initial_state = {'title':'Evolution of AI'}\n",
    "final_state = workflow.invoke(initial_state)\n",
    "print(final_state)"
   ]
  },
  {
   "cell_type": "code",
   "execution_count": 50,
   "id": "4ed7d4c1",
   "metadata": {},
   "outputs": [
    {
     "data": {
      "text/markdown": [
       "# The Evolution of AI: A Journey from Humble Beginnings to Cutting-Edge Technology\n",
       "\n",
       "Artificial Intelligence (AI) has come a long way since its inception in the 1950s. From humble beginnings as a theoretical concept to the sophisticated technology we know today, AI has undergone significant transformations driven by technological advancements, scientific breakthroughs, and societal needs.\n",
       "\n",
       "## I. Introduction\n",
       "\n",
       "The importance of understanding the evolution of AI cannot be overstated. As AI continues to shape our lives in profound ways, it is crucial to comprehend its history, current state, and future directions. This blog will take you on a journey through the evolution of AI, highlighting key milestones, breakthroughs, and challenges along the way.\n",
       "\n",
       "## II. Early Beginnings of AI (1950s-1960s)\n",
       "\n",
       "The Dartmouth Summer Research Project on Artificial Intelligence (1956) marked the beginning of AI as a field of research. Alan Turing's concept of the Universal Machine (1936) laid the foundation for modern computer science, while Marvin Minsky's work on neural networks and machine learning paved the way for future innovations.\n",
       "\n",
       "Key figures like John McCarthy, who coined the term \"Artificial Intelligence,\" and Allen Newell and Herbert Simon, who developed the first AI programming language, contributed significantly to the field's early development.\n",
       "\n",
       "## III. Rule-Based Expert Systems (1970s-1980s)\n",
       "\n",
       "Rule-based expert systems emerged as a prominent approach in the 1970s and 1980s. These systems relied on hand-coded rules to mimic human decision-making processes. While successful in specific domains like medical diagnosis, their limitations became apparent, particularly with complex or uncertain situations.\n",
       "\n",
       "## IV. Machine Learning and Neural Networks (1980s-1990s)\n",
       "\n",
       "Machine learning and neural networks revolutionized the field of AI in the 1980s and 1990s. David Rumelhart's backpropagation algorithm (1986) and Geoffrey Hinton's work on neural networks enabled the development of more sophisticated models.\n",
       "\n",
       "Key researchers like Yann LeCun, Yoshua Bengio, and Ronald Jelinek made significant contributions to machine learning and deep learning, laying the groundwork for future breakthroughs.\n",
       "\n",
       "## V. AI Winter and the Rise of Statistics (1990s-2000s)\n",
       "\n",
       "The 1990s saw a decline in interest in AI, marked by the \"AI winter.\" This period was characterized by a lack of funding, reduced research output, and decreased public enthusiasm. However, the rise of statistics and machine learning revived interest in the field.\n",
       "\n",
       "## VI. The Dawn of Deep Learning (2010s-present)\n",
       "\n",
       "Deep learning emerged as a dominant force in AI research in the 2010s. Techniques like convolutional neural networks (CNNs) and recurrent neural networks (RNNs) enabled significant breakthroughs in areas like:\n",
       "\n",
       "*   Computer vision: Image recognition, object detection, and image generation\n",
       "*   Natural language processing: Language translation, sentiment analysis, and text summarization\n",
       "*   Speech recognition: Automatic speech recognition and voice assistants\n",
       "\n",
       "## VII. Current State and Future Directions of AI\n",
       "\n",
       "Current AI applications face significant challenges, including:\n",
       "\n",
       "*   Explainability: Understanding how AI models make decisions\n",
       "*   Fairness: Ensuring AI systems are unbiased and equitable\n",
       "*   Safety: Preventing AI systems from causing harm or unintended consequences\n",
       "\n",
       "Emerging trends and technologies include:\n",
       "\n",
       "*   Edge AI: AI computing at the edge of networks, enabling real-time processing and reduced latency\n",
       "*   Transfer Learning: Leveraging pre-trained models for faster adaptation to new tasks\n",
       "*   Quantum AI: Exploring the potential of quantum computing for AI applications\n",
       "\n",
       "## VIII. Conclusion\n",
       "\n",
       "The evolution of AI has been shaped by significant technological advancements, scientific breakthroughs, and societal needs. As we move forward, it is essential to acknowledge both the benefits and challenges associated with AI.\n",
       "\n",
       "By understanding the history and current state of AI, we can better prepare ourselves for its future impact on society, economy, and individual lives.\n",
       "\n",
       "## Additional Sections (Optional)\n",
       "\n",
       "*   **AI in Industry**: Exploring the role of AI in various industries, such as healthcare, finance, transportation, and education.\n",
       "*   **AI Ethics and Responsibility**: Discussing the challenges and opportunities related to the responsible development and deployment of AI systems.\n",
       "*   **Human-AI Collaboration**: Examining the potential benefits and limitations of human-AI collaboration in areas like creativity, problem-solving, and decision-making.\n",
       "\n",
       "## Additional Resources (Optional)\n",
       "\n",
       "*   List of recommended books, articles, research papers, and online courses on AI\n",
       "*   Links to relevant datasets, software tools, and open-source libraries for AI development"
      ],
      "text/plain": [
       "<IPython.core.display.Markdown object>"
      ]
     },
     "metadata": {},
     "output_type": "display_data"
    }
   ],
   "source": [
    "from IPython.display import Markdown, display\n",
    "\n",
    "display(Markdown(final_state['content']))"
   ]
  },
  {
   "cell_type": "code",
   "execution_count": 51,
   "id": "baeca694",
   "metadata": {},
   "outputs": [],
   "source": [
    "# print(final_state['content'])"
   ]
  },
  {
   "cell_type": "code",
   "execution_count": null,
   "id": "811bf9c0",
   "metadata": {},
   "outputs": [],
   "source": []
  }
 ],
 "metadata": {
  "kernelspec": {
   "display_name": "Python 3",
   "language": "python",
   "name": "python3"
  },
  "language_info": {
   "codemirror_mode": {
    "name": "ipython",
    "version": 3
   },
   "file_extension": ".py",
   "mimetype": "text/x-python",
   "name": "python",
   "nbconvert_exporter": "python",
   "pygments_lexer": "ipython3",
   "version": "3.13.2"
  }
 },
 "nbformat": 4,
 "nbformat_minor": 5
}
