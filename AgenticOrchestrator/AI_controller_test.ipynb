{
 "cells": [
  {
   "cell_type": "markdown",
   "id": "134e90f1",
   "metadata": {},
   "source": [
    "1. Dashboard of active servers and services.\n",
    "2. Input support - file ( pdf, docs, excel..), URL etc. \n",
    "3. UI --> API --> AI controller --> Task & Workflow execution as per servers status (call by AI controller) --> return\n",
    "\n",
    "Illustration:\n",
    "1. UI: User injest the input data and find interactive response as we finds in deep thing feature of chatgpt like which tool/site/task it is executing and finally finds the response.\n",
    "2. API: Realtime data like status/processing.. share\n",
    "3. AI Controller: On particular endpoint and payload, AI controller will invoke.\n",
    "It will be responsible for the following things:\n",
    "- Take any kind of input, Analyze the type, bifurcate it for the further processing.\n",
    "- Identify the active tools and services as per status that will require to complete the task.\n",
    "- finally return the response.\n",
    "\n",
    "Example: \n",
    "User pass an invoice in pdf format and given instruction to process it save it in sql invoice database.\n",
    "AI controller: Input--> Analysis: take pdf and convert to text and keep it on processed data type in Langgraph status along with input query, input type--> pass it AI assistant, AI assistant analyze the query and input and identify which tools or service can perform this task, after this it pass such tool or service list to another tool which will check what are active services are there and after this another tool use active services to get the desired result."
   ]
  },
  {
   "cell_type": "code",
   "execution_count": null,
   "id": "bf6ea3f5",
   "metadata": {},
   "outputs": [],
   "source": []
  },
  {
   "cell_type": "code",
   "execution_count": null,
   "id": "4d081d1b",
   "metadata": {},
   "outputs": [],
   "source": []
  },
  {
   "cell_type": "markdown",
   "id": "580a2ecf",
   "metadata": {},
   "source": [
    "## langgraph based AI Controller"
   ]
  },
  {
   "cell_type": "code",
   "execution_count": 2,
   "id": "3472fd5b",
   "metadata": {},
   "outputs": [],
   "source": [
    "from typing import Annotated\n",
    "\n",
    "from langchain.chat_models import init_chat_model\n",
    "from langchain_tavily import TavilySearch\n",
    "from langchain_core.messages import BaseMessage\n",
    "from typing_extensions import TypedDict\n",
    "\n",
    "from langgraph.graph import StateGraph, START, END\n",
    "from langgraph.graph.message import add_messages\n",
    "from langgraph.prebuilt import ToolNode, tools_condition"
   ]
  },
  {
   "cell_type": "code",
   "execution_count": 3,
   "id": "ce26937a",
   "metadata": {},
   "outputs": [],
   "source": [
    "def input_analyzer():\n",
    "    '''Take input, analyze and preprocess it for further processing'''\n",
    "    pass\n"
   ]
  },
  {
   "cell_type": "code",
   "execution_count": null,
   "id": "518b8386",
   "metadata": {},
   "outputs": [],
   "source": [
    "# define tools \n"
   ]
  },
  {
   "cell_type": "code",
   "execution_count": null,
   "id": "5f7bfdb9",
   "metadata": {},
   "outputs": [],
   "source": [
    "class State(TypedDict):\n",
    "    messages: Annotated[list, add_messages]\n",
    "\n",
    "\n",
    "graph_builder = StateGraph(State)\n",
    "\n",
    "\n",
    "tool = \n",
    "tools = [tool]\n",
    "llm = init_chat_model(\"anthropic:claude-3-5-sonnet-latest\")\n",
    "llm_with_tools = llm.bind_tools(tools)\n",
    "\n",
    "\n",
    "def chatbot(state: State):\n",
    "    return {\"messages\": [llm_with_tools.invoke(state[\"messages\"])]}\n",
    "\n",
    "\n",
    "graph_builder.add_node(\"chatbot\", chatbot)\n",
    "\n",
    "tool_node = ToolNode(tools=[tool])\n",
    "graph_builder.add_node(\"tools\", tool_node)\n",
    "\n",
    "graph_builder.add_conditional_edges(\n",
    "    \"chatbot\",\n",
    "    tools_condition,\n",
    ")\n",
    "# Any time a tool is called, we return to the chatbot to decide the next step\n",
    "graph_builder.add_edge(\"tools\", \"chatbot\")\n",
    "graph_builder.add_edge(START, \"chatbot\")"
   ]
  }
 ],
 "metadata": {
  "kernelspec": {
   "display_name": "AIenv",
   "language": "python",
   "name": "python3"
  },
  "language_info": {
   "codemirror_mode": {
    "name": "ipython",
    "version": 3
   },
   "file_extension": ".py",
   "mimetype": "text/x-python",
   "name": "python",
   "nbconvert_exporter": "python",
   "pygments_lexer": "ipython3",
   "version": "3.13.2"
  }
 },
 "nbformat": 4,
 "nbformat_minor": 5
}
